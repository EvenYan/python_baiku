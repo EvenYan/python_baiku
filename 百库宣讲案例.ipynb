{
 "cells": [
  {
   "cell_type": "markdown",
   "metadata": {},
   "source": [
    "# 案例1：海量文件自动化归档"
   ]
  },
  {
   "cell_type": "code",
   "execution_count": 5,
   "metadata": {
    "ExecuteTime": {
     "end_time": "2020-07-23T12:12:38.548230Z",
     "start_time": "2020-07-23T12:12:38.202477Z"
    }
   },
   "outputs": [
    {
     "name": "stdout",
     "output_type": "stream",
     "text": [
      "2020072320\n",
      "/Users/evenyan/Documents/python_basic_baiku/baiku_demo\n"
     ]
    }
   ],
   "source": [
    "# 自动生成1000个Excel文档\n",
    "import os\n",
    "import shutil\n",
    "from datetime import datetime, timedelta\n",
    "\n",
    "\n",
    "cur_time = datetime.now()\n",
    "cur_time_str = cur_time.strftime(\"%Y%m%d%H\")\n",
    "\n",
    "print(cur_time_str)\n",
    "print(os.getcwd())\n",
    "src_file = os.path.abspath(\"./record/demo.xlsx\")\n",
    "for i in range(1000):\n",
    "    prefix_datetime = cur_time - timedelta(hours=i)\n",
    "    prefix_str = prefix_datetime.strftime(\"%Y%m%d%H\")\n",
    "    shutil.copy(src_file, \"./record/\"+prefix_str+\".xlsx\")"
   ]
  },
  {
   "cell_type": "code",
   "execution_count": 21,
   "metadata": {
    "ExecuteTime": {
     "end_time": "2020-07-24T02:04:34.466618Z",
     "start_time": "2020-07-24T02:04:33.854750Z"
    }
   },
   "outputs": [
    {
     "name": "stdout",
     "output_type": "stream",
     "text": [
      "{'20200711', '20200608', '20200610', '20200602', '20200624', '20200709', '20200603', '20200627', '20200613', '20200703', '20200606', '20200604', '20200710', '20200607', '20200704', '20200615', '20200618', '20200614', '20200621', '20200708', '20200722', '20200611', '20200628', '20200718', '20200605', '20200601', '20200706', '20200713', '20200629', '20200719', '20200716', '20200622', '20200723', '20200626', '20200715', '20200717', '20200616', '20200612', '20200705', '20200623', '20200619', '20200720', '20200617', '20200712', '20200701', '20200707', '20200630', '20200620', '20200721', '20200714', '20200702', '20200609', '20200625'}\n"
     ]
    }
   ],
   "source": [
    "import os\n",
    "import shutil\n",
    "\n",
    "\n",
    "target_path = r\"./record\"\n",
    "file_list =  os.listdir(target_path)\n",
    "\n",
    "day_set = set([file[:8] for file in file_list])\n",
    "\n",
    "print(day_set)\n",
    "for day in day_set:\n",
    "    dir_name = os.path.join(r\"./data\", str(day))\n",
    "    try:\n",
    "        os.mkdir(dir_name)\n",
    "    except Exception as e:\n",
    "        pass\n",
    "    \n",
    "\n",
    "for file in file_list:\n",
    "    abs_path = os.path.join(target_path, file)\n",
    "    if file[:8] in day_set:\n",
    "        shutil.copy(abs_path, os.path.join(r\"./data\", file[:8]))"
   ]
  },
  {
   "cell_type": "markdown",
   "metadata": {
    "heading_collapsed": true
   },
   "source": [
    "# 案例2：自动化邮件"
   ]
  },
  {
   "cell_type": "code",
   "execution_count": 22,
   "metadata": {
    "ExecuteTime": {
     "end_time": "2020-07-24T02:07:31.091552Z",
     "start_time": "2020-07-24T02:07:27.012170Z"
    },
    "hidden": true
   },
   "outputs": [
    {
     "name": "stdout",
     "output_type": "stream",
     "text": [
      "{'天猫国际进口超市': 15000, '天猫超市': 8500, '欧莱雅男士官方旗舰店': 4991, '清泠': 1789, '瑞驰化妆品专营店': 1201, '欧莱雅美洁金信专卖店': 1187, '欧莱雅恒骊祥专卖店': 1049, 'loreal欧莱雅欧美斯专卖店': 852, '欧莱雅官方旗舰店': 593, '怡然居化妆品批发': 228, '欧莱雅美发官方旗舰店': 25}\n"
     ]
    },
    {
     "name": "stderr",
     "output_type": "stream",
     "text": [
      "/usr/local/lib/python3.7/site-packages/matplotlib/backends/backend_agg.py:214: RuntimeWarning: Glyph 22825 missing from current font.\n",
      "  font.set_text(s, 0.0, flags=flags)\n",
      "/usr/local/lib/python3.7/site-packages/matplotlib/backends/backend_agg.py:214: RuntimeWarning: Glyph 29483 missing from current font.\n",
      "  font.set_text(s, 0.0, flags=flags)\n",
      "/usr/local/lib/python3.7/site-packages/matplotlib/backends/backend_agg.py:214: RuntimeWarning: Glyph 22269 missing from current font.\n",
      "  font.set_text(s, 0.0, flags=flags)\n",
      "/usr/local/lib/python3.7/site-packages/matplotlib/backends/backend_agg.py:214: RuntimeWarning: Glyph 38469 missing from current font.\n",
      "  font.set_text(s, 0.0, flags=flags)\n",
      "/usr/local/lib/python3.7/site-packages/matplotlib/backends/backend_agg.py:214: RuntimeWarning: Glyph 36827 missing from current font.\n",
      "  font.set_text(s, 0.0, flags=flags)\n",
      "/usr/local/lib/python3.7/site-packages/matplotlib/backends/backend_agg.py:214: RuntimeWarning: Glyph 21475 missing from current font.\n",
      "  font.set_text(s, 0.0, flags=flags)\n",
      "/usr/local/lib/python3.7/site-packages/matplotlib/backends/backend_agg.py:214: RuntimeWarning: Glyph 36229 missing from current font.\n",
      "  font.set_text(s, 0.0, flags=flags)\n",
      "/usr/local/lib/python3.7/site-packages/matplotlib/backends/backend_agg.py:214: RuntimeWarning: Glyph 24066 missing from current font.\n",
      "  font.set_text(s, 0.0, flags=flags)\n",
      "/usr/local/lib/python3.7/site-packages/matplotlib/backends/backend_agg.py:214: RuntimeWarning: Glyph 27431 missing from current font.\n",
      "  font.set_text(s, 0.0, flags=flags)\n",
      "/usr/local/lib/python3.7/site-packages/matplotlib/backends/backend_agg.py:214: RuntimeWarning: Glyph 33713 missing from current font.\n",
      "  font.set_text(s, 0.0, flags=flags)\n",
      "/usr/local/lib/python3.7/site-packages/matplotlib/backends/backend_agg.py:214: RuntimeWarning: Glyph 38597 missing from current font.\n",
      "  font.set_text(s, 0.0, flags=flags)\n",
      "/usr/local/lib/python3.7/site-packages/matplotlib/backends/backend_agg.py:214: RuntimeWarning: Glyph 30007 missing from current font.\n",
      "  font.set_text(s, 0.0, flags=flags)\n",
      "/usr/local/lib/python3.7/site-packages/matplotlib/backends/backend_agg.py:214: RuntimeWarning: Glyph 22763 missing from current font.\n",
      "  font.set_text(s, 0.0, flags=flags)\n",
      "/usr/local/lib/python3.7/site-packages/matplotlib/backends/backend_agg.py:214: RuntimeWarning: Glyph 23448 missing from current font.\n",
      "  font.set_text(s, 0.0, flags=flags)\n",
      "/usr/local/lib/python3.7/site-packages/matplotlib/backends/backend_agg.py:214: RuntimeWarning: Glyph 26041 missing from current font.\n",
      "  font.set_text(s, 0.0, flags=flags)\n",
      "/usr/local/lib/python3.7/site-packages/matplotlib/backends/backend_agg.py:214: RuntimeWarning: Glyph 26071 missing from current font.\n",
      "  font.set_text(s, 0.0, flags=flags)\n",
      "/usr/local/lib/python3.7/site-packages/matplotlib/backends/backend_agg.py:214: RuntimeWarning: Glyph 33328 missing from current font.\n",
      "  font.set_text(s, 0.0, flags=flags)\n",
      "/usr/local/lib/python3.7/site-packages/matplotlib/backends/backend_agg.py:214: RuntimeWarning: Glyph 24215 missing from current font.\n",
      "  font.set_text(s, 0.0, flags=flags)\n",
      "/usr/local/lib/python3.7/site-packages/matplotlib/backends/backend_agg.py:214: RuntimeWarning: Glyph 28165 missing from current font.\n",
      "  font.set_text(s, 0.0, flags=flags)\n",
      "/usr/local/lib/python3.7/site-packages/matplotlib/backends/backend_agg.py:214: RuntimeWarning: Glyph 27872 missing from current font.\n",
      "  font.set_text(s, 0.0, flags=flags)\n",
      "/usr/local/lib/python3.7/site-packages/matplotlib/backends/backend_agg.py:214: RuntimeWarning: Glyph 29790 missing from current font.\n",
      "  font.set_text(s, 0.0, flags=flags)\n",
      "/usr/local/lib/python3.7/site-packages/matplotlib/backends/backend_agg.py:214: RuntimeWarning: Glyph 39536 missing from current font.\n",
      "  font.set_text(s, 0.0, flags=flags)\n",
      "/usr/local/lib/python3.7/site-packages/matplotlib/backends/backend_agg.py:214: RuntimeWarning: Glyph 21270 missing from current font.\n",
      "  font.set_text(s, 0.0, flags=flags)\n",
      "/usr/local/lib/python3.7/site-packages/matplotlib/backends/backend_agg.py:214: RuntimeWarning: Glyph 22918 missing from current font.\n",
      "  font.set_text(s, 0.0, flags=flags)\n",
      "/usr/local/lib/python3.7/site-packages/matplotlib/backends/backend_agg.py:214: RuntimeWarning: Glyph 21697 missing from current font.\n",
      "  font.set_text(s, 0.0, flags=flags)\n",
      "/usr/local/lib/python3.7/site-packages/matplotlib/backends/backend_agg.py:214: RuntimeWarning: Glyph 19987 missing from current font.\n",
      "  font.set_text(s, 0.0, flags=flags)\n",
      "/usr/local/lib/python3.7/site-packages/matplotlib/backends/backend_agg.py:214: RuntimeWarning: Glyph 33829 missing from current font.\n",
      "  font.set_text(s, 0.0, flags=flags)\n",
      "/usr/local/lib/python3.7/site-packages/matplotlib/backends/backend_agg.py:214: RuntimeWarning: Glyph 32654 missing from current font.\n",
      "  font.set_text(s, 0.0, flags=flags)\n",
      "/usr/local/lib/python3.7/site-packages/matplotlib/backends/backend_agg.py:214: RuntimeWarning: Glyph 27905 missing from current font.\n",
      "  font.set_text(s, 0.0, flags=flags)\n",
      "/usr/local/lib/python3.7/site-packages/matplotlib/backends/backend_agg.py:214: RuntimeWarning: Glyph 37329 missing from current font.\n",
      "  font.set_text(s, 0.0, flags=flags)\n",
      "/usr/local/lib/python3.7/site-packages/matplotlib/backends/backend_agg.py:214: RuntimeWarning: Glyph 20449 missing from current font.\n",
      "  font.set_text(s, 0.0, flags=flags)\n",
      "/usr/local/lib/python3.7/site-packages/matplotlib/backends/backend_agg.py:214: RuntimeWarning: Glyph 21334 missing from current font.\n",
      "  font.set_text(s, 0.0, flags=flags)\n",
      "/usr/local/lib/python3.7/site-packages/matplotlib/backends/backend_agg.py:214: RuntimeWarning: Glyph 24658 missing from current font.\n",
      "  font.set_text(s, 0.0, flags=flags)\n",
      "/usr/local/lib/python3.7/site-packages/matplotlib/backends/backend_agg.py:214: RuntimeWarning: Glyph 39562 missing from current font.\n",
      "  font.set_text(s, 0.0, flags=flags)\n",
      "/usr/local/lib/python3.7/site-packages/matplotlib/backends/backend_agg.py:214: RuntimeWarning: Glyph 31077 missing from current font.\n",
      "  font.set_text(s, 0.0, flags=flags)\n",
      "/usr/local/lib/python3.7/site-packages/matplotlib/backends/backend_agg.py:214: RuntimeWarning: Glyph 26031 missing from current font.\n",
      "  font.set_text(s, 0.0, flags=flags)\n",
      "/usr/local/lib/python3.7/site-packages/matplotlib/backends/backend_agg.py:214: RuntimeWarning: Glyph 24609 missing from current font.\n",
      "  font.set_text(s, 0.0, flags=flags)\n",
      "/usr/local/lib/python3.7/site-packages/matplotlib/backends/backend_agg.py:214: RuntimeWarning: Glyph 28982 missing from current font.\n",
      "  font.set_text(s, 0.0, flags=flags)\n",
      "/usr/local/lib/python3.7/site-packages/matplotlib/backends/backend_agg.py:214: RuntimeWarning: Glyph 23621 missing from current font.\n",
      "  font.set_text(s, 0.0, flags=flags)\n",
      "/usr/local/lib/python3.7/site-packages/matplotlib/backends/backend_agg.py:214: RuntimeWarning: Glyph 25209 missing from current font.\n",
      "  font.set_text(s, 0.0, flags=flags)\n",
      "/usr/local/lib/python3.7/site-packages/matplotlib/backends/backend_agg.py:214: RuntimeWarning: Glyph 21457 missing from current font.\n",
      "  font.set_text(s, 0.0, flags=flags)\n",
      "/usr/local/lib/python3.7/site-packages/matplotlib/backends/backend_agg.py:183: RuntimeWarning: Glyph 22825 missing from current font.\n",
      "  font.set_text(s, 0, flags=flags)\n",
      "/usr/local/lib/python3.7/site-packages/matplotlib/backends/backend_agg.py:183: RuntimeWarning: Glyph 29483 missing from current font.\n",
      "  font.set_text(s, 0, flags=flags)\n",
      "/usr/local/lib/python3.7/site-packages/matplotlib/backends/backend_agg.py:183: RuntimeWarning: Glyph 22269 missing from current font.\n",
      "  font.set_text(s, 0, flags=flags)\n",
      "/usr/local/lib/python3.7/site-packages/matplotlib/backends/backend_agg.py:183: RuntimeWarning: Glyph 38469 missing from current font.\n",
      "  font.set_text(s, 0, flags=flags)\n",
      "/usr/local/lib/python3.7/site-packages/matplotlib/backends/backend_agg.py:183: RuntimeWarning: Glyph 36827 missing from current font.\n",
      "  font.set_text(s, 0, flags=flags)\n",
      "/usr/local/lib/python3.7/site-packages/matplotlib/backends/backend_agg.py:183: RuntimeWarning: Glyph 21475 missing from current font.\n",
      "  font.set_text(s, 0, flags=flags)\n",
      "/usr/local/lib/python3.7/site-packages/matplotlib/backends/backend_agg.py:183: RuntimeWarning: Glyph 36229 missing from current font.\n",
      "  font.set_text(s, 0, flags=flags)\n",
      "/usr/local/lib/python3.7/site-packages/matplotlib/backends/backend_agg.py:183: RuntimeWarning: Glyph 24066 missing from current font.\n",
      "  font.set_text(s, 0, flags=flags)\n",
      "/usr/local/lib/python3.7/site-packages/matplotlib/backends/backend_agg.py:183: RuntimeWarning: Glyph 27431 missing from current font.\n",
      "  font.set_text(s, 0, flags=flags)\n",
      "/usr/local/lib/python3.7/site-packages/matplotlib/backends/backend_agg.py:183: RuntimeWarning: Glyph 33713 missing from current font.\n",
      "  font.set_text(s, 0, flags=flags)\n",
      "/usr/local/lib/python3.7/site-packages/matplotlib/backends/backend_agg.py:183: RuntimeWarning: Glyph 38597 missing from current font.\n",
      "  font.set_text(s, 0, flags=flags)\n",
      "/usr/local/lib/python3.7/site-packages/matplotlib/backends/backend_agg.py:183: RuntimeWarning: Glyph 30007 missing from current font.\n",
      "  font.set_text(s, 0, flags=flags)\n",
      "/usr/local/lib/python3.7/site-packages/matplotlib/backends/backend_agg.py:183: RuntimeWarning: Glyph 22763 missing from current font.\n",
      "  font.set_text(s, 0, flags=flags)\n",
      "/usr/local/lib/python3.7/site-packages/matplotlib/backends/backend_agg.py:183: RuntimeWarning: Glyph 23448 missing from current font.\n",
      "  font.set_text(s, 0, flags=flags)\n",
      "/usr/local/lib/python3.7/site-packages/matplotlib/backends/backend_agg.py:183: RuntimeWarning: Glyph 26041 missing from current font.\n",
      "  font.set_text(s, 0, flags=flags)\n",
      "/usr/local/lib/python3.7/site-packages/matplotlib/backends/backend_agg.py:183: RuntimeWarning: Glyph 26071 missing from current font.\n",
      "  font.set_text(s, 0, flags=flags)\n",
      "/usr/local/lib/python3.7/site-packages/matplotlib/backends/backend_agg.py:183: RuntimeWarning: Glyph 33328 missing from current font.\n",
      "  font.set_text(s, 0, flags=flags)\n",
      "/usr/local/lib/python3.7/site-packages/matplotlib/backends/backend_agg.py:183: RuntimeWarning: Glyph 24215 missing from current font.\n",
      "  font.set_text(s, 0, flags=flags)\n",
      "/usr/local/lib/python3.7/site-packages/matplotlib/backends/backend_agg.py:183: RuntimeWarning: Glyph 28165 missing from current font.\n",
      "  font.set_text(s, 0, flags=flags)\n",
      "/usr/local/lib/python3.7/site-packages/matplotlib/backends/backend_agg.py:183: RuntimeWarning: Glyph 27872 missing from current font.\n",
      "  font.set_text(s, 0, flags=flags)\n",
      "/usr/local/lib/python3.7/site-packages/matplotlib/backends/backend_agg.py:183: RuntimeWarning: Glyph 29790 missing from current font.\n",
      "  font.set_text(s, 0, flags=flags)\n",
      "/usr/local/lib/python3.7/site-packages/matplotlib/backends/backend_agg.py:183: RuntimeWarning: Glyph 39536 missing from current font.\n",
      "  font.set_text(s, 0, flags=flags)\n",
      "/usr/local/lib/python3.7/site-packages/matplotlib/backends/backend_agg.py:183: RuntimeWarning: Glyph 21270 missing from current font.\n",
      "  font.set_text(s, 0, flags=flags)\n",
      "/usr/local/lib/python3.7/site-packages/matplotlib/backends/backend_agg.py:183: RuntimeWarning: Glyph 22918 missing from current font.\n",
      "  font.set_text(s, 0, flags=flags)\n",
      "/usr/local/lib/python3.7/site-packages/matplotlib/backends/backend_agg.py:183: RuntimeWarning: Glyph 21697 missing from current font.\n",
      "  font.set_text(s, 0, flags=flags)\n",
      "/usr/local/lib/python3.7/site-packages/matplotlib/backends/backend_agg.py:183: RuntimeWarning: Glyph 19987 missing from current font.\n",
      "  font.set_text(s, 0, flags=flags)\n",
      "/usr/local/lib/python3.7/site-packages/matplotlib/backends/backend_agg.py:183: RuntimeWarning: Glyph 33829 missing from current font.\n",
      "  font.set_text(s, 0, flags=flags)\n",
      "/usr/local/lib/python3.7/site-packages/matplotlib/backends/backend_agg.py:183: RuntimeWarning: Glyph 32654 missing from current font.\n",
      "  font.set_text(s, 0, flags=flags)\n",
      "/usr/local/lib/python3.7/site-packages/matplotlib/backends/backend_agg.py:183: RuntimeWarning: Glyph 27905 missing from current font.\n",
      "  font.set_text(s, 0, flags=flags)\n",
      "/usr/local/lib/python3.7/site-packages/matplotlib/backends/backend_agg.py:183: RuntimeWarning: Glyph 37329 missing from current font.\n",
      "  font.set_text(s, 0, flags=flags)\n",
      "/usr/local/lib/python3.7/site-packages/matplotlib/backends/backend_agg.py:183: RuntimeWarning: Glyph 20449 missing from current font.\n",
      "  font.set_text(s, 0, flags=flags)\n",
      "/usr/local/lib/python3.7/site-packages/matplotlib/backends/backend_agg.py:183: RuntimeWarning: Glyph 21334 missing from current font.\n",
      "  font.set_text(s, 0, flags=flags)\n",
      "/usr/local/lib/python3.7/site-packages/matplotlib/backends/backend_agg.py:183: RuntimeWarning: Glyph 24658 missing from current font.\n",
      "  font.set_text(s, 0, flags=flags)\n",
      "/usr/local/lib/python3.7/site-packages/matplotlib/backends/backend_agg.py:183: RuntimeWarning: Glyph 39562 missing from current font.\n",
      "  font.set_text(s, 0, flags=flags)\n",
      "/usr/local/lib/python3.7/site-packages/matplotlib/backends/backend_agg.py:183: RuntimeWarning: Glyph 31077 missing from current font.\n",
      "  font.set_text(s, 0, flags=flags)\n",
      "/usr/local/lib/python3.7/site-packages/matplotlib/backends/backend_agg.py:183: RuntimeWarning: Glyph 26031 missing from current font.\n",
      "  font.set_text(s, 0, flags=flags)\n",
      "/usr/local/lib/python3.7/site-packages/matplotlib/backends/backend_agg.py:183: RuntimeWarning: Glyph 24609 missing from current font.\n",
      "  font.set_text(s, 0, flags=flags)\n",
      "/usr/local/lib/python3.7/site-packages/matplotlib/backends/backend_agg.py:183: RuntimeWarning: Glyph 28982 missing from current font.\n",
      "  font.set_text(s, 0, flags=flags)\n",
      "/usr/local/lib/python3.7/site-packages/matplotlib/backends/backend_agg.py:183: RuntimeWarning: Glyph 23621 missing from current font.\n",
      "  font.set_text(s, 0, flags=flags)\n",
      "/usr/local/lib/python3.7/site-packages/matplotlib/backends/backend_agg.py:183: RuntimeWarning: Glyph 25209 missing from current font.\n",
      "  font.set_text(s, 0, flags=flags)\n",
      "/usr/local/lib/python3.7/site-packages/matplotlib/backends/backend_agg.py:183: RuntimeWarning: Glyph 21457 missing from current font.\n",
      "  font.set_text(s, 0, flags=flags)\n"
     ]
    },
    {
     "data": {
      "image/png": "[encoded data removed]",
      "text/plain": [
       "<Figure size 432x288 with 1 Axes>"
      ]
     },
     "metadata": {
      "needs_background": "light"
     },
     "output_type": "display_data"
    },
    {
     "data": {
      "text/plain": [
       "True"
      ]
     },
     "execution_count": 22,
     "metadata": {},
     "output_type": "execute_result"
    }
   ],
   "source": [
    "import pandas as pd\n",
    "import matplotlib.pyplot as plt\n",
    "\n",
    "plt.rcParams['font.sans-serif'] = ['SimHei']\n",
    "plt.rcParams['axes.unicode_minus'] = False\n",
    "\n",
    "\n",
    "pd = pd.read_csv(\"taobao_sale.csv\")\n",
    "\n",
    "pd.dropna(inplace=True)\n",
    "pd['商品销量'] = pd['商品销量'].str.replace(\"人付款\", \"\")\n",
    "pd['商品销量'] = pd['商品销量'].str.replace(\"+\", \"\")\n",
    "x = pd[\"店铺名称\"]\n",
    "y = pd['商品销量'].tolist()\n",
    "new_y = []\n",
    "\n",
    "\n",
    "for i in y:\n",
    "    if \"万\" in i:\n",
    "        new_y.append(int(float(i[:-1])*10000))\n",
    "    else:\n",
    "        new_y.append(int(i))\n",
    "\n",
    "        \n",
    "good_info = dict(zip(x, new_y))\n",
    "good_info =dict(sorted(good_info.items(), key=lambda x:x[-1], reverse=True))\n",
    "print(good_info)\n",
    "\n",
    "plt.xticks(rotation=90)\n",
    "\n",
    "\n",
    "plt.bar(good_info.keys(), good_info.values())\n",
    "\n",
    "import os\n",
    "filename = \"result1.png\"\n",
    "plt.savefig(os.path.join(\"./images\", filename), bbox_inches = 'tight')\n",
    "# 绘制图表\n",
    "plt.show()\n",
    "\n",
    "import time\n",
    "\n",
    "time.sleep(3)\n",
    "\n",
    "\n",
    "import zmail\n",
    "\n",
    "server = zmail.server(\"XXX@qq.com\", \"XXXX\")\n",
    "\n",
    "server.send_mail([\"XXXX@qq.com\"], {\"subject\": \"测试\", \"content_html\":\"<html><table><tr><th style='color:red'>销量Top10</th></tr></table><div><img src='https://course-public-resources-1252758970.cos.ap-chengdu.myqcloud.com/%E5%AE%9E%E6%88%98%E8%AF%BE/%E6%B5%8B%E8%AF%95/result1.png'></div><p>Best Wishes!</p></html>\"}, cc=[\"1014934663@qq.com\"])\n",
    "\n"
   ]
  },
  {
   "cell_type": "markdown",
   "metadata": {},
   "source": [
    "# 案例3：批量采集淘宝商品信息"
   ]
  },
  {
   "cell_type": "code",
   "execution_count": 10,
   "metadata": {
    "ExecuteTime": {
     "end_time": "2020-07-09T14:03:48.954528Z",
     "start_time": "2020-07-09T14:03:48.049738Z"
    }
   },
   "outputs": [],
   "source": [
    "# 所有商品：//div[@data-index][position()>1]\n",
    "# 商品标题：//div[@data-index][position()>1]/div[2]/div[2]/a\n",
    "# 商品价格：//div[@data-index][position()>1]//div[@class='price g_price g_price-highlight']\n",
    "# 商品销量：//div[@data-index][position()>1]//div[@class='deal-cnt']\n",
    "# 店铺名称：//div[@data-index][position()>1]//div[@class='shop']//span[2]/text()\n",
    "# 店铺地址：//div[@data-index][position()>1]//div[@class='location']/text()"
   ]
  },
  {
   "cell_type": "markdown",
   "metadata": {},
   "source": [
    "# 案例3：毫秒级打开10G大表格文件"
   ]
  },
  {
   "cell_type": "code",
   "execution_count": 24,
   "metadata": {
    "ExecuteTime": {
     "end_time": "2020-07-24T02:12:37.993013Z",
     "start_time": "2020-07-24T02:12:31.320351Z"
    }
   },
   "outputs": [
    {
     "name": "stdout",
     "output_type": "stream",
     "text": [
      "751 µs ± 78.7 µs per loop (mean ± std. dev. of 7 runs, 1000 loops each)\n"
     ]
    }
   ],
   "source": [
    "%%timeit\n",
    "\n",
    "import pandas as pd\n",
    "\n",
    "df = pd.read_csv(r'/Users/evenyan/Documents/data.csv', iterator=True)\n",
    "\n"
   ]
  },
  {
   "cell_type": "code",
   "execution_count": 9,
   "metadata": {
    "ExecuteTime": {
     "end_time": "2020-07-23T16:27:06.838905Z",
     "start_time": "2020-07-23T16:27:03.033388Z"
    }
   },
   "outputs": [
    {
     "name": "stdout",
     "output_type": "stream",
     "text": [
      "4.6 ms ± 717 µs per loop (mean ± std. dev. of 7 runs, 100 loops each)\n"
     ]
    }
   ],
   "source": [
    "%%timeit\n",
    "\n",
    "import pandas as pd\n",
    "\n",
    "df = pd.read_csv(r'/Users/evenyan/Documents/data.csv', iterator=True)\n",
    "df.get_chunk(2)"
   ]
  },
  {
   "cell_type": "code",
   "execution_count": 25,
   "metadata": {
    "ExecuteTime": {
     "end_time": "2020-07-24T02:12:44.086161Z",
     "start_time": "2020-07-24T02:12:44.062523Z"
    }
   },
   "outputs": [
    {
     "data": {
      "text/html": [
       "<div>\n",
       "<style scoped>\n",
       "    .dataframe tbody tr th:only-of-type {\n",
       "        vertical-align: middle;\n",
       "    }\n",
       "\n",
       "    .dataframe tbody tr th {\n",
       "        vertical-align: top;\n",
       "    }\n",
       "\n",
       "    .dataframe thead th {\n",
       "        text-align: right;\n",
       "    }\n",
       "</style>\n",
       "<table border=\"1\" class=\"dataframe\">\n",
       "  <thead>\n",
       "    <tr style=\"text-align: right;\">\n",
       "      <th></th>\n",
       "      <th>0</th>\n",
       "      <th>000001.SZ</th>\n",
       "      <th>20200708</th>\n",
       "      <th>15.23</th>\n",
       "      <th>16.0</th>\n",
       "      <th>15.23.1</th>\n",
       "      <th>15.76</th>\n",
       "      <th>15.48</th>\n",
       "      <th>0.28</th>\n",
       "      <th>1.8088</th>\n",
       "      <th>2631339.16</th>\n",
       "      <th>4095447.757</th>\n",
       "    </tr>\n",
       "  </thead>\n",
       "  <tbody>\n",
       "    <tr>\n",
       "      <th>0</th>\n",
       "      <td>1</td>\n",
       "      <td>000001.SZ</td>\n",
       "      <td>20200707</td>\n",
       "      <td>16.3</td>\n",
       "      <td>16.63</td>\n",
       "      <td>15.03</td>\n",
       "      <td>15.48</td>\n",
       "      <td>15.68</td>\n",
       "      <td>-0.20</td>\n",
       "      <td>-1.2755</td>\n",
       "      <td>3964427.47</td>\n",
       "      <td>6267919.683</td>\n",
       "    </tr>\n",
       "    <tr>\n",
       "      <th>1</th>\n",
       "      <td>2</td>\n",
       "      <td>000001.SZ</td>\n",
       "      <td>20200706</td>\n",
       "      <td>14.6</td>\n",
       "      <td>15.68</td>\n",
       "      <td>14.59</td>\n",
       "      <td>15.68</td>\n",
       "      <td>14.25</td>\n",
       "      <td>1.43</td>\n",
       "      <td>10.0351</td>\n",
       "      <td>4711460.78</td>\n",
       "      <td>7168653.356</td>\n",
       "    </tr>\n",
       "  </tbody>\n",
       "</table>\n",
       "</div>"
      ],
      "text/plain": [
       "   0  000001.SZ  20200708  15.23   16.0  15.23.1  15.76  15.48  0.28   1.8088  \\\n",
       "0  1  000001.SZ  20200707   16.3  16.63    15.03  15.48  15.68 -0.20  -1.2755   \n",
       "1  2  000001.SZ  20200706   14.6  15.68    14.59  15.68  14.25  1.43  10.0351   \n",
       "\n",
       "   2631339.16  4095447.757  \n",
       "0  3964427.47  6267919.683  \n",
       "1  4711460.78  7168653.356  "
      ]
     },
     "execution_count": 25,
     "metadata": {},
     "output_type": "execute_result"
    }
   ],
   "source": [
    "import pandas as pd\n",
    "df = pd.read_csv(r'/Users/evenyan/Documents/data.csv', iterator=True)\n",
    "df.get_chunk(2)"
   ]
  },
  {
   "cell_type": "markdown",
   "metadata": {},
   "source": [
    "# 案例4：词云制作"
   ]
  },
  {
   "cell_type": "code",
   "execution_count": 26,
   "metadata": {
    "ExecuteTime": {
     "end_time": "2020-07-24T02:14:52.415331Z",
     "start_time": "2020-07-24T02:14:35.735347Z"
    },
    "code_folding": [
     13
    ],
    "scrolled": true
   },
   "outputs": [
    {
     "name": "stdout",
     "output_type": "stream",
     "text": [
      "生成词云文件：output7-chinamap.png\n"
     ]
    },
    {
     "data": {
      "image/png": "[encoded data removed]",
      "text/plain": [
       "<Figure size 432x288 with 1 Axes>"
      ]
     },
     "metadata": {
      "needs_background": "light"
     },
     "output_type": "display_data"
    }
   ],
   "source": [
    "import os\n",
    "\n",
    "import jieba\n",
    "import wordcloud\n",
    "import matplotlib.pyplot as plt\n",
    "\n",
    "# 导入imageio库中的imread函数，并用这个函数读取本地图片，作为词云形状图片\n",
    "import imageio\n",
    "\n",
    "\n",
    "BASE_DIR = \"./demo_word_cloud\"\n",
    "\n",
    "\n",
    "def gen_word_cloud(img_path, txt_path):\n",
    "    mk = imageio.imread(img_path)\n",
    "    w = wordcloud.WordCloud(mask=mk)\n",
    "\n",
    "    # 构建并配置词云对象w，注意要加scale参数，提高清晰度\n",
    "    w = wordcloud.WordCloud(width=1000,\n",
    "                            height=700,\n",
    "                            background_color='white',\n",
    "                            font_path='MSYH.ttc',\n",
    "                            mask=mk,\n",
    "                            scale=15,\n",
    "                            # 词语不重复出现\n",
    "                            collocations=False)\n",
    "\n",
    "    # 对来自外部文件的文本进行中文分词，得到string\n",
    "    with open(txt_path, encoding='utf-8') as f:\n",
    "        txt = f.read()\n",
    "    # txtlist = jieba.lcut(txt)\n",
    "    txtlist = list(jieba.cut(txt, cut_all=False, HMM=True))\n",
    "    string_list = \" \".join(txtlist)\n",
    "\n",
    "    # 将string变量传入w的generate()方法，给词云输入文字\n",
    "    w.generate(string_list)\n",
    "\n",
    "    # 将词云图片导出到当前文件夹\n",
    "    w.to_file('output7-chinamap.png')\n",
    "    print(\"生成词云文件：output7-chinamap.png\")\n",
    "    plt.imshow(w)\n",
    "    plt.axis(\"off\")\n",
    "    plt.show()\n",
    "\n",
    "    \n",
    "\n",
    "def main():\n",
    "    filename = \"./news.txt\"\n",
    "    img_path = os.path.join(BASE_DIR, \"chinamap.png\")\n",
    "    text_path = os.path.join(BASE_DIR, filename)\n",
    "    gen_word_cloud(img_path, text_path)\n",
    "    \n",
    "\n",
    "main()\n"
   ]
  },
  {
   "cell_type": "markdown",
   "metadata": {},
   "source": [
    "# 案例5：数据分析全流程（从数据清洗到数据建模）"
   ]
  },
  {
   "cell_type": "code",
   "execution_count": 28,
   "metadata": {
    "ExecuteTime": {
     "end_time": "2020-07-24T02:18:43.735037Z",
     "start_time": "2020-07-24T02:18:43.618802Z"
    }
   },
   "outputs": [
    {
     "name": "stdout",
     "output_type": "stream",
     "text": [
      "<class 'pandas.core.frame.DataFrame'>\n",
      "RangeIndex: 1000 entries, 0 to 999\n",
      "Data columns (total 6 columns):\n",
      " #   Column  Non-Null Count  Dtype  \n",
      "---  ------  --------------  -----  \n",
      " 0   收入      994 non-null    float64\n",
      " 1   年龄      999 non-null    float64\n",
      " 2   性别      992 non-null    float64\n",
      " 3   花呗额度    1000 non-null   int64  \n",
      " 4   取消订单次数  1000 non-null   int64  \n",
      " 5   是否取消订单  1000 non-null   int64  \n",
      "dtypes: float64(3), int64(3)\n",
      "memory usage: 47.0 KB\n",
      "            收入         年龄  性别   花呗额度  取消订单次数\n",
      "0     503999.0  46.000000   1      0       1\n",
      "1     452766.0  36.000000   0  13583       0\n",
      "2     100000.0  33.000000   1      0       1\n",
      "3     100000.0  36.924925   0      0       1\n",
      "4     258000.0  35.000000   1      0       0\n",
      "..         ...        ...  ..    ...     ...\n",
      "995   510666.0  44.000000   1   5000       0\n",
      "996   490000.0  40.000000   0      0       0\n",
      "997   333333.0  44.000000   1  10000       0\n",
      "998   480000.0  38.000000   1      0       0\n",
      "999  1500000.0  42.000000   0  91040       1\n",
      "\n",
      "[1000 rows x 5 columns]\n",
      "0      1\n",
      "1      1\n",
      "2      1\n",
      "3      1\n",
      "4      1\n",
      "      ..\n",
      "995    0\n",
      "996    0\n",
      "997    0\n",
      "998    0\n",
      "999    0\n",
      "Name: 是否取消订单, Length: 1000, dtype: int64\n",
      "<class 'pandas.core.frame.DataFrame'>\n",
      "RangeIndex: 1000 entries, 0 to 999\n",
      "Data columns (total 6 columns):\n",
      " #   Column  Non-Null Count  Dtype  \n",
      "---  ------  --------------  -----  \n",
      " 0   收入      1000 non-null   float64\n",
      " 1   年龄      1000 non-null   float64\n",
      " 2   性别      1000 non-null   int64  \n",
      " 3   花呗额度    1000 non-null   int64  \n",
      " 4   取消订单次数  1000 non-null   int64  \n",
      " 5   是否取消订单  1000 non-null   int64  \n",
      "dtypes: float64(2), int64(4)\n",
      "memory usage: 47.0 KB\n"
     ]
    },
    {
     "data": {
      "text/plain": [
       "0.844"
      ]
     },
     "execution_count": 28,
     "metadata": {},
     "output_type": "execute_result"
    }
   ],
   "source": [
    "import pandas as pd\n",
    "\n",
    "\n",
    "data = pd.read_excel(\"./客户信息及取消订单情况.xlsx\")\n",
    "data.info()\n",
    "data.describe()\n",
    "\n",
    "data['收入'].fillna(data['收入'].mean(), inplace=True)\n",
    "data['年龄'].fillna(data['年龄'].mean(), inplace=True)\n",
    "data['性别'].fillna(data['性别'].mean(), inplace=True)\n",
    "data['性别'] = data['性别'].astype(int)\n",
    "\n",
    "\n",
    "features = data[['收入', '年龄', '性别', '花呗额度', '取消订单次数']]\n",
    "labels = data['是否取消订单']\n",
    "print(features)\n",
    "print(labels)\n",
    "data.info()\n",
    "\n",
    "\n",
    "from sklearn.tree import DecisionTreeClassifier\n",
    "from sklearn.model_selection import train_test_split\n",
    "\n",
    "\n",
    "train_X, test_X, train_y, test_y = train_test_split(features, labels)\n",
    "\n",
    "clf = DecisionTreeClassifier(max_depth=4)\n",
    "\n",
    "clf.fit(train_X, train_y)\n",
    "\n",
    "clf.predict(test_X)\n",
    "\n",
    "clf.score(test_X, test_y)\n"
   ]
  },
  {
   "cell_type": "code",
   "execution_count": 29,
   "metadata": {
    "ExecuteTime": {
     "end_time": "2020-07-24T02:20:53.378210Z",
     "start_time": "2020-07-24T02:20:53.370644Z"
    }
   },
   "outputs": [],
   "source": [
    "import graphviz\n",
    "from sklearn.tree import export_graphviz\n",
    "# dot_data = export_graphviz(clf, out_file=None)\n",
    "# graph = graphviz.Source(dot_data)\n",
    "# graph.render(\"fin\")\n",
    "\n",
    "\n",
    "with open(\"./clf.dot\", 'w', encoding='utf-8') as f:\n",
    "    f = export_graphviz(clf, feature_names=['收入', '年龄', '性别', '花呗额度', '取消订单次数'], out_file=f)\n",
    "    "
   ]
  },
  {
   "cell_type": "code",
   "execution_count": 30,
   "metadata": {
    "ExecuteTime": {
     "end_time": "2020-07-24T02:20:56.339210Z",
     "start_time": "2020-07-24T02:20:56.128291Z"
    }
   },
   "outputs": [],
   "source": [
    "!dot -Tpdf clf.dot -o treeone.pdf"
   ]
  }
 ],
 "metadata": {
  "kernelspec": {
   "display_name": "Python 3",
   "language": "python",
   "name": "python3"
  },
  "language_info": {
   "codemirror_mode": {
    "name": "ipython",
    "version": 3
   },
   "file_extension": ".py",
   "mimetype": "text/x-python",
   "name": "python",
   "nbconvert_exporter": "python",
   "pygments_lexer": "ipython3",
   "version": "3.7.7"
  },
  "toc": {
   "base_numbering": 1,
   "nav_menu": {},
   "number_sections": true,
   "sideBar": true,
   "skip_h1_title": false,
   "title_cell": "Table of Contents",
   "title_sidebar": "Contents",
   "toc_cell": false,
   "toc_position": {},
   "toc_section_display": true,
   "toc_window_display": false
  }
 },
 "nbformat": 4,
 "nbformat_minor": 4
}