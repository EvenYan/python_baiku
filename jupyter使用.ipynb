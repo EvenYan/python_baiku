{
 "cells": [
  {
   "cell_type": "code",
   "execution_count": 5,
   "metadata": {
    "ExecuteTime": {
     "end_time": "2020-07-24T02:54:52.121115Z",
     "start_time": "2020-07-24T02:54:52.118587Z"
    }
   },
   "outputs": [],
   "source": [
    "# 程序窗格为绿色，光标闪烁表示在代码编辑状态\n",
    "import this\n",
    "\n",
    "# 同时按Ctrl + Enter即可运行整个程序窗格的代码\n",
    "\n",
    "\n",
    "# 点击程序窗格的In部分，这时候程序窗格编程蓝色，按下a键即可在当前程序窗格前创建一个新的\n",
    "# 点击程序窗格的In部分，这时候程序窗格编程蓝色，按下b键即可在当前程序窗格后创建一个新的"
   ]
  },
  {
   "cell_type": "markdown",
   "metadata": {},
   "source": [
    "# Python基础\n"
   ]
  },
  {
   "cell_type": "markdown",
   "metadata": {},
   "source": [
    "## Python的数据类型"
   ]
  },
  {
   "cell_type": "markdown",
   "metadata": {},
   "source": [
    "###### 六级标题"
   ]
  },
  {
   "cell_type": "markdown",
   "metadata": {},
   "source": [
    "` # 点击程序窗格的In部分，这时候程序窗格编程蓝色，按下m键即可做笔记`\n",
    "\n",
    "\n",
    "` # 表示一级标题，###### 表示六级标题`"
   ]
  },
  {
   "cell_type": "markdown",
   "metadata": {},
   "source": [
    "> 点击程序窗格的In部分，这时候程序窗格编程蓝色，按下d键两次即可删除当前程序窗格"
   ]
  }
 ],
 "metadata": {
  "kernelspec": {
   "display_name": "Python 3",
   "language": "python",
   "name": "python3"
  },
  "language_info": {
   "codemirror_mode": {
    "name": "ipython",
    "version": 3
   },
   "file_extension": ".py",
   "mimetype": "text/x-python",
   "name": "python",
   "nbconvert_exporter": "python",
   "pygments_lexer": "ipython3",
   "version": "3.7.7"
  },
  "toc": {
   "base_numbering": 1,
   "nav_menu": {},
   "number_sections": true,
   "sideBar": true,
   "skip_h1_title": false,
   "title_cell": "Table of Contents",
   "title_sidebar": "Contents",
   "toc_cell": false,
   "toc_position": {
    "height": "calc(100% - 180px)",
    "left": "10px",
    "top": "150px",
    "width": "165px"
   },
   "toc_section_display": true,
   "toc_window_display": false
  }
 },
 "nbformat": 4,
 "nbformat_minor": 4
}
