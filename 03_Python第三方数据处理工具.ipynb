{
 "cells": [
  {
   "cell_type": "markdown",
   "metadata": {},
   "source": [
    "# 第三方库的安装"
   ]
  },
  {
   "cell_type": "markdown",
   "metadata": {},
   "source": [
    "- pip install package\n",
    "- pip uninstall package"
   ]
  },
  {
   "cell_type": "code",
   "execution_count": 63,
   "metadata": {
    "ExecuteTime": {
     "end_time": "2020-07-24T09:16:58.141672Z",
     "start_time": "2020-07-24T09:16:56.815342Z"
    }
   },
   "outputs": [
    {
     "name": "stdout",
     "output_type": "stream",
     "text": [
      "Looking in indexes: https://mirrors.aliyun.com/pypi/simple/\n",
      "Requirement already satisfied: pandas in /usr/local/lib/python3.7/site-packages (1.0.3)\n",
      "Requirement already satisfied: pytz>=2017.2 in /usr/local/lib/python3.7/site-packages (from pandas) (2019.3)\n",
      "Requirement already satisfied: python-dateutil>=2.6.1 in /usr/local/lib/python3.7/site-packages (from pandas) (2.8.1)\n",
      "Requirement already satisfied: numpy>=1.13.3 in /usr/local/lib/python3.7/site-packages (from pandas) (1.18.1)\n",
      "Requirement already satisfied: six>=1.5 in /Users/evenyan/Library/Python/3.7/lib/python/site-packages (from python-dateutil>=2.6.1->pandas) (1.14.0)\n"
     ]
    }
   ],
   "source": [
    "!pip3 install -i https://mirrors.aliyun.com/pypi/simple/ pandas"
   ]
  },
  {
   "cell_type": "markdown",
   "metadata": {},
   "source": [
    "# openpyxl库"
   ]
  },
  {
   "cell_type": "markdown",
   "metadata": {},
   "source": [
    "## Workbook操作\n",
    "- 创建Workbook对象：`wb = openpyxl.Workbook()`\n",
    "- 保存Workbook对象到xlsx文件：`wb.save(\"test.xlsx\")`\n",
    "- 打开现有xlsx文件：`wb = openpyxl.load_workbook(\"test.xlsx\")`"
   ]
  },
  {
   "cell_type": "code",
   "execution_count": 65,
   "metadata": {
    "ExecuteTime": {
     "end_time": "2020-07-24T09:19:13.254720Z",
     "start_time": "2020-07-24T09:19:13.244242Z"
    }
   },
   "outputs": [],
   "source": [
    "import openpyxl\n",
    "\n",
    "wb = openpyxl.Workbook()\n",
    "\n",
    "wb.save(\"./baiku.xlsx\")"
   ]
  },
  {
   "cell_type": "code",
   "execution_count": 66,
   "metadata": {
    "ExecuteTime": {
     "end_time": "2020-07-24T09:19:52.445729Z",
     "start_time": "2020-07-24T09:19:52.436432Z"
    }
   },
   "outputs": [],
   "source": [
    "wb1 = openpyxl.load_workbook(\"./baik.xlsx\")"
   ]
  },
  {
   "cell_type": "markdown",
   "metadata": {},
   "source": [
    "## 工作表（sheet）操作\n",
    "- 获取默认的Sheet页面：`ws1 = wb.active`\n",
    "- 通过工作表名称获取sheet页面2：`ws1 = wb[\"Sheet\"]`\n",
    "- 通过工作表名称获取sheet页面3：`ws1 = wb.worksheets[0]`\n",
    "- 创建新的sheet页面（保存时才生效）：`ws2 = wb.create_sheet(\"Sheet2\")`\n",
    "- 给已有sheet重命名：`ws1.title = \"New\"`\n",
    "- 获取所有sheet名：`sheet_name_list = wb.sheetnames`\n",
    "- 删除工作表：`wb.remove_sheet(ws2)`"
   ]
  },
  {
   "cell_type": "code",
   "execution_count": 68,
   "metadata": {
    "ExecuteTime": {
     "end_time": "2020-07-24T09:20:28.400369Z",
     "start_time": "2020-07-24T09:20:28.395783Z"
    }
   },
   "outputs": [
    {
     "data": {
      "text/plain": [
       "<Worksheet \"Sheet\">"
      ]
     },
     "execution_count": 68,
     "metadata": {},
     "output_type": "execute_result"
    }
   ],
   "source": [
    "ws = wb1[\"Sheet\"]\n",
    "ws"
   ]
  },
  {
   "cell_type": "markdown",
   "metadata": {},
   "source": [
    "## 单元格操作\n",
    "- 给表格赋值（保存时才生效）：`ws2[\"A1\"] = \"Test\"`\n",
    "- 在指定行、列的单元格中写入数据：`ws1.cell(row=3, column=2).value = \"AAAAA\"`\n",
    "- 获取最大的行数：`ws2.max_row`\n",
    "- 获取最大的列数：`ws2.max_column`\n",
    "- 采用iter_cols方法:\n",
    "\n",
    "```python\n",
    "for col in ws1.iter_cols(min_row=2, min_col=2, max_row=7, max_col=6):\n",
    "    for cell in col:\n",
    "        print(cell.value)\n",
    "```\n",
    "- 遍历方式向多个单元格中写入值：\n",
    "\n",
    "```python\n",
    "for row in ws2[\"B2:F7\"]:\n",
    "    for cell in row:\n",
    "        cell.value = 100\n",
    "        print(cell.value)\n",
    "\n",
    "```\n",
    "- 按行追加数据，不会影响原有数据：\n",
    "\n",
    "```python\n",
    "DATA = [\n",
    "    ['第一天', 123, 12, 123, 900, 231, 7],\n",
    "    ['第二天', 13, 56, 3, 900, 231, 90],\n",
    "    ['第三天', 216, 38, 37, 543, 55, 376],\n",
    "    ['第四天', 89, 99, 88, 453, 87, 527]\n",
    "]\n",
    "for row in DATA:\n",
    "    ws1.append(row)\n",
    "```"
   ]
  },
  {
   "cell_type": "code",
   "execution_count": 71,
   "metadata": {
    "ExecuteTime": {
     "end_time": "2020-07-24T09:21:57.881147Z",
     "start_time": "2020-07-24T09:21:57.872895Z"
    }
   },
   "outputs": [],
   "source": [
    "ws[\"A1\"] = 1000\n",
    "\n",
    "wb1.save(\"./baiku.xlsx\")"
   ]
  },
  {
   "cell_type": "code",
   "execution_count": 74,
   "metadata": {
    "ExecuteTime": {
     "end_time": "2020-07-24T09:25:05.254975Z",
     "start_time": "2020-07-24T09:25:05.237103Z"
    }
   },
   "outputs": [],
   "source": [
    "import openpyxl\n",
    "\n",
    "wb1 = openpyxl.load_workbook(\"./baiku.xlsx\")\n",
    "ws = wb1[\"Sheet\"]\n",
    "ws.append([\"日期\", \"商品1\", \"商品2\"])\n",
    "\n",
    "ws.append(['第20天', 9, 277])\n",
    "\n",
    "wb1.save(\"./baiku.xlsx\")"
   ]
  },
  {
   "cell_type": "code",
   "execution_count": 81,
   "metadata": {
    "ExecuteTime": {
     "end_time": "2020-07-24T09:28:34.880234Z",
     "start_time": "2020-07-24T09:28:34.869555Z"
    }
   },
   "outputs": [
    {
     "name": "stdout",
     "output_type": "stream",
     "text": [
      "日期\n",
      "第20天\n",
      "商品1\n",
      "9\n",
      "商品2\n",
      "277\n"
     ]
    }
   ],
   "source": [
    "wb2 = openpyxl.load_workbook(\"./baiku.xlsx\")\n",
    "ws2 = wb2['Sheet']\n",
    "\n",
    "for col in ws2.iter_cols(min_col=ws2.min_column,\n",
    "    max_col=ws2.max_column,\n",
    "    min_row=ws2.min_row,\n",
    "    max_row=ws2.max_row):\n",
    "    for cell in col:\n",
    "        print(cell.value)\n",
    "    "
   ]
  },
  {
   "cell_type": "markdown",
   "metadata": {},
   "source": [
    "## 案例：将下列数据写入Excel表格中"
   ]
  },
  {
   "cell_type": "markdown",
   "metadata": {},
   "source": [
    "- 表头信息为：日期， 商品1，商品2， 商品3， 商品4，商品4\n",
    "- 表格内数据：`data_list = [['第20天', 9, 277, 94, 139, 126],\n",
    " ['第1天', 22, 206, 98, 14, 254],\n",
    " ['第2天', 27, 179, 14, 165, 110],\n",
    " ['第3天', 79, 69, 142, 262, 150],\n",
    " ['第4天', 139, 70, 226, 51, 273],\n",
    " ['第5天', 160, 114, 249, 252, 89],\n",
    " ['第6天', 108, 242, 212, 180, 198],\n",
    " ['第7天', 170, 195, 82, 181, 209],\n",
    " ['第8天', 146, 222, 261, 20, 82],\n",
    " ['第9天', 33, 254, 241, 126, 245],\n",
    " ['第10天', 115, 56, 154, 242, 122],\n",
    " ['第11天', 161, 256, 225, 102, 53],\n",
    " ['第12天', 91, 259, 279, 126, 85],\n",
    " ['第13天', 172, 184, 60, 50, 249],\n",
    " ['第14天', 85, 27, 4, 144, 30],\n",
    " ['第15天', 81, 219, 192, 1, 282],\n",
    " ['第16天', 180, 217, 198, 154, 119],\n",
    " ['第17天', 137, 296, 150, 263, 242],\n",
    " ['第18天', 105, 290, 203, 158, 4],\n",
    " ['第19天', 158, 180, 245, 99, 120]]`\n"
   ]
  },
  {
   "cell_type": "code",
   "execution_count": 83,
   "metadata": {
    "ExecuteTime": {
     "end_time": "2020-07-24T09:32:58.127697Z",
     "start_time": "2020-07-24T09:32:58.112915Z"
    }
   },
   "outputs": [
    {
     "name": "stdout",
     "output_type": "stream",
     "text": [
      "2576\n"
     ]
    }
   ],
   "source": [
    "wb2 = openpyxl.load_workbook(\"./good.xlsx\")\n",
    "ws2 = wb2['Sheet1']\n",
    "\n",
    "total = 0\n",
    "for col in ws2.iter_cols(min_col=ws2.min_column,\n",
    "    max_col=ws2.max_column,\n",
    "    min_row=ws2.min_row,\n",
    "    max_row=ws2.max_row):\n",
    "    if col[0].value == \"商品1\":\n",
    "        for cell in col[1:]:\n",
    "            total += cell.value\n",
    "print(total)"
   ]
  },
  {
   "cell_type": "markdown",
   "metadata": {},
   "source": [
    "## 新需求：统计商品1的总销量"
   ]
  },
  {
   "cell_type": "markdown",
   "metadata": {},
   "source": [
    "# Pandas入门"
   ]
  },
  {
   "cell_type": "markdown",
   "metadata": {},
   "source": [
    ">  pandas 是基于NumPy 的一种工具，该工具是为了解决数据分析任务而创建的。Pandas 纳入了大量库和一些标准的数据模型，提供了高效地操作大型数据集所需的工具。pandas提供了大量能使我们快速便捷地处理数据的函数和方法。它主要提供了两种类型的数据结构，分别是DataFrame和Series，我们可以简单的把DataFrame理解为Excel里面的一张表，而Series就是表中的某一列，后面学习和用到的所有Pandas骚操作，都是基于这些表和列进行的操作"
   ]
  },
  {
   "cell_type": "markdown",
   "metadata": {},
   "source": [
    "## Series"
   ]
  },
  {
   "cell_type": "markdown",
   "metadata": {},
   "source": [
    "- pd.Series(data, index)"
   ]
  },
  {
   "cell_type": "markdown",
   "metadata": {},
   "source": [
    "## DataFrame"
   ]
  },
  {
   "cell_type": "markdown",
   "metadata": {},
   "source": [
    "### 定义\n",
    "- pd.DataFrame(data, index, columns)"
   ]
  },
  {
   "cell_type": "markdown",
   "metadata": {
    "ExecuteTime": {
     "end_time": "2020-07-16T02:40:23.893059Z",
     "start_time": "2020-07-16T02:40:23.890774Z"
    }
   },
   "source": [
    "### DataFrame常见操作\n",
    "- info()\n",
    "- describe()\n",
    "- df[col].sum()"
   ]
  },
  {
   "cell_type": "code",
   "execution_count": 94,
   "metadata": {
    "ExecuteTime": {
     "end_time": "2020-07-24T09:36:49.283106Z",
     "start_time": "2020-07-24T09:36:49.269398Z"
    }
   },
   "outputs": [
    {
     "data": {
      "text/plain": [
       "0    199.0\n",
       "dtype: float64"
      ]
     },
     "execution_count": 94,
     "metadata": {},
     "output_type": "execute_result"
    }
   ],
   "source": [
    "import pandas as pd\n",
    "\n",
    "df = pd.read_excel(\"./good.xlsx\")\n",
    "df[\"商品1\"].mode()"
   ]
  },
  {
   "cell_type": "code",
   "execution_count": 91,
   "metadata": {
    "ExecuteTime": {
     "end_time": "2020-07-24T09:35:32.787104Z",
     "start_time": "2020-07-24T09:35:32.779835Z"
    },
    "scrolled": true
   },
   "outputs": [
    {
     "name": "stdout",
     "output_type": "stream",
     "text": [
      "<class 'pandas.core.frame.DataFrame'>\n",
      "RangeIndex: 22 entries, 0 to 21\n",
      "Data columns (total 6 columns):\n",
      " #   Column  Non-Null Count  Dtype  \n",
      "---  ------  --------------  -----  \n",
      " 0   日期      22 non-null     object \n",
      " 1   商品1     20 non-null     float64\n",
      " 2   商品2     22 non-null     int64  \n",
      " 3   商品3     20 non-null     float64\n",
      " 4   商品4     22 non-null     int64  \n",
      " 5   商品5     21 non-null     float64\n",
      "dtypes: float64(3), int64(2), object(1)\n",
      "memory usage: 1.2+ KB\n"
     ]
    }
   ],
   "source": [
    "df.info()"
   ]
  },
  {
   "cell_type": "code",
   "execution_count": 95,
   "metadata": {
    "ExecuteTime": {
     "end_time": "2020-07-24T09:36:51.380638Z",
     "start_time": "2020-07-24T09:36:51.351606Z"
    }
   },
   "outputs": [
    {
     "data": {
      "text/html": [
       "<div>\n",
       "<style scoped>\n",
       "    .dataframe tbody tr th:only-of-type {\n",
       "        vertical-align: middle;\n",
       "    }\n",
       "\n",
       "    .dataframe tbody tr th {\n",
       "        vertical-align: top;\n",
       "    }\n",
       "\n",
       "    .dataframe thead th {\n",
       "        text-align: right;\n",
       "    }\n",
       "</style>\n",
       "<table border=\"1\" class=\"dataframe\">\n",
       "  <thead>\n",
       "    <tr style=\"text-align: right;\">\n",
       "      <th></th>\n",
       "      <th>商品1</th>\n",
       "      <th>商品2</th>\n",
       "      <th>商品3</th>\n",
       "      <th>商品4</th>\n",
       "      <th>商品5</th>\n",
       "    </tr>\n",
       "  </thead>\n",
       "  <tbody>\n",
       "    <tr>\n",
       "      <th>count</th>\n",
       "      <td>20.000000</td>\n",
       "      <td>22.000000</td>\n",
       "      <td>20.000000</td>\n",
       "      <td>22.000000</td>\n",
       "      <td>21.000000</td>\n",
       "    </tr>\n",
       "    <tr>\n",
       "      <th>mean</th>\n",
       "      <td>11116.300000</td>\n",
       "      <td>194.454545</td>\n",
       "      <td>157.250000</td>\n",
       "      <td>133.045455</td>\n",
       "      <td>145.333333</td>\n",
       "    </tr>\n",
       "    <tr>\n",
       "      <th>std</th>\n",
       "      <td>49166.153599</td>\n",
       "      <td>78.817890</td>\n",
       "      <td>82.311907</td>\n",
       "      <td>78.326835</td>\n",
       "      <td>88.905755</td>\n",
       "    </tr>\n",
       "    <tr>\n",
       "      <th>min</th>\n",
       "      <td>9.000000</td>\n",
       "      <td>27.000000</td>\n",
       "      <td>4.000000</td>\n",
       "      <td>1.000000</td>\n",
       "      <td>7.000000</td>\n",
       "    </tr>\n",
       "    <tr>\n",
       "      <th>25%</th>\n",
       "      <td>84.000000</td>\n",
       "      <td>179.250000</td>\n",
       "      <td>97.000000</td>\n",
       "      <td>99.000000</td>\n",
       "      <td>85.000000</td>\n",
       "    </tr>\n",
       "    <tr>\n",
       "      <th>50%</th>\n",
       "      <td>142.500000</td>\n",
       "      <td>218.000000</td>\n",
       "      <td>152.000000</td>\n",
       "      <td>132.500000</td>\n",
       "      <td>122.000000</td>\n",
       "    </tr>\n",
       "    <tr>\n",
       "      <th>75%</th>\n",
       "      <td>170.500000</td>\n",
       "      <td>251.000000</td>\n",
       "      <td>229.750000</td>\n",
       "      <td>176.250000</td>\n",
       "      <td>242.000000</td>\n",
       "    </tr>\n",
       "    <tr>\n",
       "      <th>max</th>\n",
       "      <td>220000.000000</td>\n",
       "      <td>296.000000</td>\n",
       "      <td>279.000000</td>\n",
       "      <td>263.000000</td>\n",
       "      <td>282.000000</td>\n",
       "    </tr>\n",
       "  </tbody>\n",
       "</table>\n",
       "</div>"
      ],
      "text/plain": [
       "                 商品1         商品2         商品3         商品4         商品5\n",
       "count      20.000000   22.000000   20.000000   22.000000   21.000000\n",
       "mean    11116.300000  194.454545  157.250000  133.045455  145.333333\n",
       "std     49166.153599   78.817890   82.311907   78.326835   88.905755\n",
       "min         9.000000   27.000000    4.000000    1.000000    7.000000\n",
       "25%        84.000000  179.250000   97.000000   99.000000   85.000000\n",
       "50%       142.500000  218.000000  152.000000  132.500000  122.000000\n",
       "75%       170.500000  251.000000  229.750000  176.250000  242.000000\n",
       "max    220000.000000  296.000000  279.000000  263.000000  282.000000"
      ]
     },
     "execution_count": 95,
     "metadata": {},
     "output_type": "execute_result"
    }
   ],
   "source": [
    "df.describe()"
   ]
  }
 ],
 "metadata": {
  "kernelspec": {
   "display_name": "Python 3",
   "language": "python",
   "name": "python3"
  },
  "language_info": {
   "codemirror_mode": {
    "name": "ipython",
    "version": 3
   },
   "file_extension": ".py",
   "mimetype": "text/x-python",
   "name": "python",
   "nbconvert_exporter": "python",
   "pygments_lexer": "ipython3",
   "version": "3.7.7"
  },
  "toc": {
   "base_numbering": 1,
   "nav_menu": {},
   "number_sections": true,
   "sideBar": true,
   "skip_h1_title": false,
   "title_cell": "Table of Contents",
   "title_sidebar": "Contents",
   "toc_cell": false,
   "toc_position": {},
   "toc_section_display": true,
   "toc_window_display": false
  }
 },
 "nbformat": 4,
 "nbformat_minor": 4
}
