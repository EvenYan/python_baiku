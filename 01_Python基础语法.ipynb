{
 "cells": [
  {
   "cell_type": "markdown",
   "metadata": {},
   "source": [
    "# Python简介"
   ]
  },
  {
   "cell_type": "markdown",
   "metadata": {},
   "source": [
    "**Python的起源**\n",
    "- 创始人：吉多·范罗苏姆（Guido van Rossum）\n",
    "    "
   ]
  },
  {
   "cell_type": "markdown",
   "metadata": {},
   "source": [
    "# **Python语法规则**"
   ]
  },
  {
   "cell_type": "markdown",
   "metadata": {},
   "source": [
    "## 二级标题"
   ]
  },
  {
   "cell_type": "markdown",
   "metadata": {},
   "source": [
    "- 语句之间断行"
   ]
  },
  {
   "cell_type": "markdown",
   "metadata": {},
   "source": [
    "- 块之间缩进"
   ]
  },
  {
   "cell_type": "markdown",
   "metadata": {},
   "source": [
    "- 注释\n",
    "    - 单行注释：`#`\n",
    "    - 多行注释：`\"\"\"`或`'''`"
   ]
  },
  {
   "cell_type": "code",
   "execution_count": 11,
   "metadata": {
    "ExecuteTime": {
     "end_time": "2020-07-24T03:06:35.853721Z",
     "start_time": "2020-07-24T03:06:35.851236Z"
    }
   },
   "outputs": [],
   "source": [
    "a = 10\n",
    "b = 20"
   ]
  },
  {
   "cell_type": "code",
   "execution_count": 13,
   "metadata": {
    "ExecuteTime": {
     "end_time": "2020-07-24T03:07:52.090239Z",
     "start_time": "2020-07-24T03:07:52.086502Z"
    },
    "collapsed": true
   },
   "outputs": [
    {
     "name": "stdout",
     "output_type": "stream",
     "text": [
      "Hello World!\n",
      "Hello World!\n",
      "Hello World!\n",
      "Hello World!\n",
      "Hello World!\n",
      "Hello World!\n",
      "Hello World!\n",
      "Hello World!\n",
      "Hello World!\n",
      "Hello World!\n",
      "End\n"
     ]
    }
   ],
   "source": [
    "for i in range(10):\n",
    "    print(\"Hello World!\")\n",
    "print(\"End\")"
   ]
  },
  {
   "cell_type": "code",
   "execution_count": 14,
   "metadata": {
    "ExecuteTime": {
     "end_time": "2020-07-24T03:11:17.260917Z",
     "start_time": "2020-07-24T03:11:17.257758Z"
    }
   },
   "outputs": [],
   "source": [
    "# 定义一个变量c，表示销量\n",
    "c = 50\n",
    "\n",
    "def get_data_from_db(row):\n",
    "    \"\"\"从数据库中获取数据\n",
    "    XXXXXX\n",
    "    XXXXXX\n",
    "    args:\n",
    "        row: 想要获取的代码的行数\n",
    "    errors:\n",
    "        XXXError: xxxx\n",
    "        XXXError1: XXXX\n",
    "    \"\"\"\n",
    "    pass"
   ]
  },
  {
   "cell_type": "code",
   "execution_count": null,
   "metadata": {},
   "outputs": [],
   "source": [
    "get_data_from_db()"
   ]
  },
  {
   "cell_type": "markdown",
   "metadata": {},
   "source": [
    "# 基本数据类型"
   ]
  },
  {
   "cell_type": "markdown",
   "metadata": {},
   "source": [
    "## Number类型"
   ]
  },
  {
   "cell_type": "markdown",
   "metadata": {},
   "source": [
    "### 基本数据类型之：整型(Number类型)"
   ]
  },
  {
   "cell_type": "markdown",
   "metadata": {},
   "source": [
    "#### 整形基本运算"
   ]
  },
  {
   "cell_type": "markdown",
   "metadata": {},
   "source": [
    "- 定义\n",
    "- 四则运算\n",
    "- `//`：取整\n",
    "- `%`：取余\n",
    "- `**`：幂运算"
   ]
  },
  {
   "cell_type": "code",
   "execution_count": 15,
   "metadata": {
    "ExecuteTime": {
     "end_time": "2020-07-24T03:34:58.727803Z",
     "start_time": "2020-07-24T03:34:58.724779Z"
    }
   },
   "outputs": [
    {
     "name": "stdout",
     "output_type": "stream",
     "text": [
      "<class 'int'>\n"
     ]
    }
   ],
   "source": [
    "int_a = 10\n",
    "\n",
    "print(type(int_a))"
   ]
  },
  {
   "cell_type": "code",
   "execution_count": 21,
   "metadata": {
    "ExecuteTime": {
     "end_time": "2020-07-24T03:36:23.010919Z",
     "start_time": "2020-07-24T03:36:23.007812Z"
    }
   },
   "outputs": [
    {
     "name": "stdout",
     "output_type": "stream",
     "text": [
      "1000\n"
     ]
    }
   ],
   "source": [
    "int_c = int_a ** 3\n",
    "print(int_c)"
   ]
  },
  {
   "cell_type": "markdown",
   "metadata": {},
   "source": [
    "#### 练习"
   ]
  },
  {
   "cell_type": "markdown",
   "metadata": {},
   "source": [
    "- 欧莱雅股价为291元，小库第一次买了100股，第二次买了700股，则一共花了多少钱。"
   ]
  },
  {
   "cell_type": "code",
   "execution_count": 23,
   "metadata": {
    "ExecuteTime": {
     "end_time": "2020-07-24T03:40:25.554726Z",
     "start_time": "2020-07-24T03:40:25.551385Z"
    }
   },
   "outputs": [
    {
     "name": "stdout",
     "output_type": "stream",
     "text": [
      "232800\n"
     ]
    }
   ],
   "source": [
    "total = 291*(100+700)\n",
    "print(total)"
   ]
  },
  {
   "cell_type": "markdown",
   "metadata": {},
   "source": [
    "### 基本数据类型之：浮点型(Number类型)"
   ]
  },
  {
   "cell_type": "markdown",
   "metadata": {},
   "source": [
    "#### 浮点数的定义"
   ]
  },
  {
   "cell_type": "code",
   "execution_count": 25,
   "metadata": {
    "ExecuteTime": {
     "end_time": "2020-07-24T03:41:02.720093Z",
     "start_time": "2020-07-24T03:41:02.717618Z"
    }
   },
   "outputs": [
    {
     "name": "stdout",
     "output_type": "stream",
     "text": [
      "<class 'float'>\n"
     ]
    }
   ],
   "source": [
    "pi = 3.14\n",
    "print(type(pi))"
   ]
  },
  {
   "cell_type": "markdown",
   "metadata": {},
   "source": [
    "**浮点型的四则运算**"
   ]
  },
  {
   "cell_type": "markdown",
   "metadata": {},
   "source": [
    "#### 浮点型和整型的相互转换"
   ]
  },
  {
   "cell_type": "code",
   "execution_count": 27,
   "metadata": {
    "ExecuteTime": {
     "end_time": "2020-07-24T03:42:18.676269Z",
     "start_time": "2020-07-24T03:42:18.672400Z"
    }
   },
   "outputs": [
    {
     "data": {
      "text/plain": [
       "10.0"
      ]
     },
     "execution_count": 27,
     "metadata": {},
     "output_type": "execute_result"
    }
   ],
   "source": [
    "float(int_a)"
   ]
  },
  {
   "cell_type": "code",
   "execution_count": 28,
   "metadata": {
    "ExecuteTime": {
     "end_time": "2020-07-24T03:42:29.220055Z",
     "start_time": "2020-07-24T03:42:29.215936Z"
    }
   },
   "outputs": [
    {
     "data": {
      "text/plain": [
       "3"
      ]
     },
     "execution_count": 28,
     "metadata": {},
     "output_type": "execute_result"
    }
   ],
   "source": [
    "int(pi)"
   ]
  },
  {
   "cell_type": "markdown",
   "metadata": {},
   "source": [
    "### 基本数据类型之：bool型(Number类型)"
   ]
  },
  {
   "cell_type": "code",
   "execution_count": 29,
   "metadata": {
    "ExecuteTime": {
     "end_time": "2020-07-24T03:43:19.905866Z",
     "start_time": "2020-07-24T03:43:19.903116Z"
    },
    "code_folding": [
     3
    ]
   },
   "outputs": [],
   "source": [
    "false = False\n",
    "true = True\n",
    "\n",
    "if int_a == 10:\n",
    "    print(\"\")\n",
    "else:\n",
    "    "
   ]
  },
  {
   "cell_type": "markdown",
   "metadata": {},
   "source": [
    "## 基本数据类型之：字符串/字节序列"
   ]
  },
  {
   "cell_type": "markdown",
   "metadata": {},
   "source": [
    "### 基本操作"
   ]
  },
  {
   "cell_type": "markdown",
   "metadata": {},
   "source": [
    "**定义字符串**"
   ]
  },
  {
   "cell_type": "code",
   "execution_count": 30,
   "metadata": {
    "ExecuteTime": {
     "end_time": "2020-07-24T03:46:36.076569Z",
     "start_time": "2020-07-24T03:46:36.073412Z"
    }
   },
   "outputs": [
    {
     "name": "stdout",
     "output_type": "stream",
     "text": [
      "Alice\n"
     ]
    }
   ],
   "source": [
    "string_a = \"Alice\"\n",
    "print(string_a)"
   ]
  },
  {
   "cell_type": "markdown",
   "metadata": {
    "ExecuteTime": {
     "end_time": "2020-07-16T08:30:51.791149Z",
     "start_time": "2020-07-16T08:30:51.788749Z"
    }
   },
   "source": [
    "#### 字符串的基本操作"
   ]
  },
  {
   "cell_type": "code",
   "execution_count": 39,
   "metadata": {
    "ExecuteTime": {
     "end_time": "2020-07-24T03:52:43.848599Z",
     "start_time": "2020-07-24T03:52:43.844909Z"
    }
   },
   "outputs": [
    {
     "name": "stdout",
     "output_type": "stream",
     "text": [
      "张山, 40 years old!\n"
     ]
    }
   ],
   "source": [
    "# 格式化字符串,%s表示字符串类型，%d表示整型\n",
    "name = \"张山\"\n",
    "age = int(\"40\")\n",
    "\n",
    "sentence = \"%s, %d years old!\" %(name, age)\n",
    "print(sentence)"
   ]
  },
  {
   "cell_type": "code",
   "execution_count": 41,
   "metadata": {
    "ExecuteTime": {
     "end_time": "2020-07-24T03:55:02.822773Z",
     "start_time": "2020-07-24T03:55:02.819026Z"
    }
   },
   "outputs": [
    {
     "name": "stdout",
     "output_type": "stream",
     "text": [
      "张山\n"
     ]
    }
   ],
   "source": [
    "# 字符串拼接:+\n",
    "first_name = \"张\"\n",
    "last_name = \"山\"\n",
    "\n",
    "full_name = first_name + last_name\n",
    "print(full_name)"
   ]
  },
  {
   "cell_type": "code",
   "execution_count": 37,
   "metadata": {
    "ExecuteTime": {
     "end_time": "2020-07-24T03:50:53.317819Z",
     "start_time": "2020-07-24T03:50:47.225159Z"
    },
    "scrolled": true
   },
   "outputs": [
    {
     "name": "stdout",
     "output_type": "stream",
     "text": [
      "请输入你的用户名：Tom\n"
     ]
    }
   ],
   "source": [
    "# input:从键盘接受输入\n",
    "name = input(\"请输入你的用户名：\")\n"
   ]
  },
  {
   "cell_type": "code",
   "execution_count": 44,
   "metadata": {
    "ExecuteTime": {
     "end_time": "2020-07-24T03:56:11.852803Z",
     "start_time": "2020-07-24T03:56:11.849119Z"
    }
   },
   "outputs": [
    {
     "data": {
      "text/plain": [
       "'张山'"
      ]
     },
     "execution_count": 44,
     "metadata": {},
     "output_type": "execute_result"
    }
   ],
   "source": [
    "name"
   ]
  },
  {
   "cell_type": "code",
   "execution_count": 53,
   "metadata": {
    "ExecuteTime": {
     "end_time": "2020-07-24T03:59:21.694210Z",
     "start_time": "2020-07-24T03:59:21.689003Z"
    }
   },
   "outputs": [
    {
     "data": {
      "text/plain": [
       "False"
      ]
     },
     "execution_count": 53,
     "metadata": {},
     "output_type": "execute_result"
    }
   ],
   "source": [
    "# 字符串的内置函数\n",
    "name.endswith(\"a\")\n",
    "\n",
    "name.startswith(\"张\")\n",
    "\n",
    "file = \"C:\\\\demo.xlsx\"\n",
    "\n",
    "file.endswith(\".xlsx\")\n",
    "\n",
    "phone_num = \"13212345678a\"\n",
    "phone_num.isdigit()\n"
   ]
  },
  {
   "cell_type": "markdown",
   "metadata": {},
   "source": [
    "**编解码**"
   ]
  },
  {
   "cell_type": "markdown",
   "metadata": {},
   "source": [
    "- ASCII： 8位01表示一个字符\n",
    "- Unicode： 24位01表示一个字符\n",
    "- UTF-8： "
   ]
  },
  {
   "cell_type": "code",
   "execution_count": 58,
   "metadata": {
    "ExecuteTime": {
     "end_time": "2020-07-24T04:04:06.921655Z",
     "start_time": "2020-07-24T04:04:06.917059Z"
    }
   },
   "outputs": [
    {
     "data": {
      "text/plain": [
       "'百库'"
      ]
     },
     "execution_count": 58,
     "metadata": {},
     "output_type": "execute_result"
    }
   ],
   "source": [
    "# 编码/解码\n",
    "# ASCII\n",
    "# Unicode\n",
    "# UTF-8\n",
    "# GBK\n",
    "# GB2312\n",
    "# cp1252\n",
    "# latin1\n",
    "# iso标准\n",
    "\n",
    "# str ---> bytes\n",
    "\"百库\".encode('utf-8')\n",
    "\n",
    "# bytes ---> str\n",
    "# 编解码使用同一套规则：建议使用UTF-8\n",
    "b'\\xe7\\x99\\xbe\\xe5\\xba\\x93'.decode('utf-8')\n"
   ]
  },
  {
   "cell_type": "markdown",
   "metadata": {},
   "source": [
    "**字符串/字节序列的长度**"
   ]
  },
  {
   "cell_type": "code",
   "execution_count": 59,
   "metadata": {
    "ExecuteTime": {
     "end_time": "2020-07-24T04:04:39.631720Z",
     "start_time": "2020-07-24T04:04:39.627399Z"
    }
   },
   "outputs": [
    {
     "data": {
      "text/plain": [
       "6"
      ]
     },
     "execution_count": 59,
     "metadata": {},
     "output_type": "execute_result"
    }
   ],
   "source": [
    "len(b'\\xe7\\x99\\xbe\\xe5\\xba\\x93')"
   ]
  },
  {
   "cell_type": "code",
   "execution_count": 60,
   "metadata": {
    "ExecuteTime": {
     "end_time": "2020-07-24T04:05:29.627050Z",
     "start_time": "2020-07-24T04:05:29.622930Z"
    }
   },
   "outputs": [
    {
     "data": {
      "text/plain": [
       "2"
      ]
     },
     "execution_count": 60,
     "metadata": {},
     "output_type": "execute_result"
    }
   ],
   "source": [
    "len(\"百库\")"
   ]
  },
  {
   "cell_type": "markdown",
   "metadata": {},
   "source": [
    "**字符串切片**\n",
    "![切片](images/slice.png)"
   ]
  },
  {
   "cell_type": "code",
   "execution_count": 66,
   "metadata": {
    "ExecuteTime": {
     "end_time": "2020-07-24T04:10:31.875047Z",
     "start_time": "2020-07-24T04:10:31.870726Z"
    }
   },
   "outputs": [
    {
     "data": {
      "text/plain": [
       "'ello '"
      ]
     },
     "execution_count": 66,
     "metadata": {},
     "output_type": "execute_result"
    }
   ],
   "source": [
    "hi = \"Hello World\"\n",
    "hi.index(\"l\")\n",
    "hi[1:6]"
   ]
  },
  {
   "cell_type": "markdown",
   "metadata": {},
   "source": [
    "### 编解码问题\n",
    "\n",
    "- 编码encode：str ---> bytes\n",
    "- 解码decode: bytes ---> str\n",
    "\n",
    "**注意：编解码最好使用同一套标准**"
   ]
  },
  {
   "cell_type": "markdown",
   "metadata": {},
   "source": [
    "### 家庭作业\n",
    "- 格式化手机号码，要求：\n",
    "    1. 手机号码18612345678 被格式化成186-1234-5678\n",
    "    2. 如果号码数据不是11位的纯数字，就打出错误信息"
   ]
  },
  {
   "cell_type": "markdown",
   "metadata": {},
   "source": [
    "## 基本数据结构之：列表"
   ]
  },
  {
   "cell_type": "markdown",
   "metadata": {},
   "source": [
    "### 基本操作"
   ]
  },
  {
   "cell_type": "markdown",
   "metadata": {},
   "source": [
    "**初始化列表**"
   ]
  },
  {
   "cell_type": "code",
   "execution_count": 70,
   "metadata": {
    "ExecuteTime": {
     "end_time": "2020-07-24T04:14:42.134144Z",
     "start_time": "2020-07-24T04:14:42.131117Z"
    }
   },
   "outputs": [],
   "source": [
    "multi_list = [[1, 3, 5, 9], \"Hello\", [\"Python\", \"Java\"], print]"
   ]
  },
  {
   "cell_type": "code",
   "execution_count": 72,
   "metadata": {
    "ExecuteTime": {
     "end_time": "2020-07-24T04:15:18.486556Z",
     "start_time": "2020-07-24T04:15:18.483916Z"
    }
   },
   "outputs": [],
   "source": [
    "multi_list.append(999)"
   ]
  },
  {
   "cell_type": "code",
   "execution_count": 74,
   "metadata": {
    "ExecuteTime": {
     "end_time": "2020-07-24T04:15:36.542605Z",
     "start_time": "2020-07-24T04:15:36.538476Z"
    }
   },
   "outputs": [
    {
     "data": {
      "text/plain": [
       "'Hello'"
      ]
     },
     "execution_count": 74,
     "metadata": {},
     "output_type": "execute_result"
    }
   ],
   "source": [
    "multi_list[1]"
   ]
  },
  {
   "cell_type": "code",
   "execution_count": 76,
   "metadata": {
    "ExecuteTime": {
     "end_time": "2020-07-24T04:16:08.047956Z",
     "start_time": "2020-07-24T04:16:08.045410Z"
    }
   },
   "outputs": [],
   "source": [
    "multi_list.insert(0, 666)"
   ]
  },
  {
   "cell_type": "code",
   "execution_count": 79,
   "metadata": {
    "ExecuteTime": {
     "end_time": "2020-07-24T04:17:34.342955Z",
     "start_time": "2020-07-24T04:17:34.337792Z"
    },
    "collapsed": true
   },
   "outputs": [
    {
     "data": {
      "text/plain": [
       "['__add__',\n",
       " '__class__',\n",
       " '__contains__',\n",
       " '__delattr__',\n",
       " '__delitem__',\n",
       " '__dir__',\n",
       " '__doc__',\n",
       " '__eq__',\n",
       " '__format__',\n",
       " '__ge__',\n",
       " '__getattribute__',\n",
       " '__getitem__',\n",
       " '__gt__',\n",
       " '__hash__',\n",
       " '__iadd__',\n",
       " '__imul__',\n",
       " '__init__',\n",
       " '__init_subclass__',\n",
       " '__iter__',\n",
       " '__le__',\n",
       " '__len__',\n",
       " '__lt__',\n",
       " '__mul__',\n",
       " '__ne__',\n",
       " '__new__',\n",
       " '__reduce__',\n",
       " '__reduce_ex__',\n",
       " '__repr__',\n",
       " '__reversed__',\n",
       " '__rmul__',\n",
       " '__setattr__',\n",
       " '__setitem__',\n",
       " '__sizeof__',\n",
       " '__str__',\n",
       " '__subclasshook__',\n",
       " 'append',\n",
       " 'clear',\n",
       " 'copy',\n",
       " 'count',\n",
       " 'extend',\n",
       " 'index',\n",
       " 'insert',\n",
       " 'pop',\n",
       " 'remove',\n",
       " 'reverse',\n",
       " 'sort']"
      ]
     },
     "execution_count": 79,
     "metadata": {},
     "output_type": "execute_result"
    }
   ],
   "source": [
    "dir(multi_list)"
   ]
  },
  {
   "cell_type": "code",
   "execution_count": 80,
   "metadata": {
    "ExecuteTime": {
     "end_time": "2020-07-24T04:17:54.149083Z",
     "start_time": "2020-07-24T04:17:54.143573Z"
    }
   },
   "outputs": [],
   "source": [
    "multi_list.append??"
   ]
  },
  {
   "cell_type": "markdown",
   "metadata": {},
   "source": [
    "**切片操作**"
   ]
  },
  {
   "cell_type": "markdown",
   "metadata": {},
   "source": [
    "![切片](images/slice.png)"
   ]
  },
  {
   "cell_type": "code",
   "execution_count": 83,
   "metadata": {
    "ExecuteTime": {
     "end_time": "2020-07-24T04:18:47.224536Z",
     "start_time": "2020-07-24T04:18:47.220109Z"
    }
   },
   "outputs": [
    {
     "data": {
      "text/plain": [
       "[666, [1, 3, 5, 9], 'Hello', ['Python', 'Java'], <function print>, 999]"
      ]
     },
     "execution_count": 83,
     "metadata": {},
     "output_type": "execute_result"
    }
   ],
   "source": [
    "multi_list[0:]"
   ]
  },
  {
   "cell_type": "markdown",
   "metadata": {},
   "source": [
    "**计算列表的长度**"
   ]
  },
  {
   "cell_type": "code",
   "execution_count": 84,
   "metadata": {
    "ExecuteTime": {
     "end_time": "2020-07-24T04:19:02.851218Z",
     "start_time": "2020-07-24T04:19:02.847616Z"
    }
   },
   "outputs": [
    {
     "data": {
      "text/plain": [
       "6"
      ]
     },
     "execution_count": 84,
     "metadata": {},
     "output_type": "execute_result"
    }
   ],
   "source": [
    "len(multi_list)"
   ]
  },
  {
   "cell_type": "markdown",
   "metadata": {},
   "source": [
    "**排序**"
   ]
  },
  {
   "cell_type": "code",
   "execution_count": 89,
   "metadata": {
    "ExecuteTime": {
     "end_time": "2020-07-24T04:20:42.005740Z",
     "start_time": "2020-07-24T04:20:42.002604Z"
    }
   },
   "outputs": [],
   "source": [
    "num_list = [100, 300, 300, 23, 11, 999]\n"
   ]
  },
  {
   "cell_type": "code",
   "execution_count": 90,
   "metadata": {
    "ExecuteTime": {
     "end_time": "2020-07-24T04:20:43.464775Z",
     "start_time": "2020-07-24T04:20:43.457654Z"
    }
   },
   "outputs": [],
   "source": [
    "num_list.sort??"
   ]
  },
  {
   "cell_type": "code",
   "execution_count": 91,
   "metadata": {
    "ExecuteTime": {
     "end_time": "2020-07-24T04:20:44.775757Z",
     "start_time": "2020-07-24T04:20:44.771894Z"
    }
   },
   "outputs": [
    {
     "name": "stdout",
     "output_type": "stream",
     "text": [
      "[100, 300, 300, 23, 11, 999]\n"
     ]
    }
   ],
   "source": [
    "print(num_list)"
   ]
  },
  {
   "cell_type": "markdown",
   "metadata": {},
   "source": [
    "### 练习1"
   ]
  },
  {
   "cell_type": "markdown",
   "metadata": {},
   "source": [
    "1. 创建一个列表，包含1-10的数字\n",
    "2. 练习列表的切片操作,切出列表的后3个元素\n",
    "3. 在列表后面添加元素：\"END\""
   ]
  },
  {
   "cell_type": "code",
   "execution_count": 92,
   "metadata": {
    "ExecuteTime": {
     "end_time": "2020-07-24T04:25:35.302651Z",
     "start_time": "2020-07-24T04:25:35.298686Z"
    }
   },
   "outputs": [
    {
     "data": {
      "text/plain": [
       "[1, 2, 3, 4, 5, 6, 7, 8, 9, 10]"
      ]
     },
     "execution_count": 92,
     "metadata": {},
     "output_type": "execute_result"
    }
   ],
   "source": [
    "num_list = list(range(1, 11))\n",
    "num_list"
   ]
  },
  {
   "cell_type": "code",
   "execution_count": 93,
   "metadata": {
    "ExecuteTime": {
     "end_time": "2020-07-24T04:25:50.422842Z",
     "start_time": "2020-07-24T04:25:50.418782Z"
    }
   },
   "outputs": [
    {
     "data": {
      "text/plain": [
       "[8, 9, 10]"
      ]
     },
     "execution_count": 93,
     "metadata": {},
     "output_type": "execute_result"
    }
   ],
   "source": [
    "num_list[-3:]"
   ]
  },
  {
   "cell_type": "code",
   "execution_count": 94,
   "metadata": {
    "ExecuteTime": {
     "end_time": "2020-07-24T04:26:04.508770Z",
     "start_time": "2020-07-24T04:26:04.506057Z"
    }
   },
   "outputs": [],
   "source": [
    "num_list.append(\"END\")"
   ]
  },
  {
   "cell_type": "code",
   "execution_count": 95,
   "metadata": {
    "ExecuteTime": {
     "end_time": "2020-07-24T04:26:07.910204Z",
     "start_time": "2020-07-24T04:26:07.906302Z"
    }
   },
   "outputs": [
    {
     "data": {
      "text/plain": [
       "[1, 2, 3, 4, 5, 6, 7, 8, 9, 10, 'END']"
      ]
     },
     "execution_count": 95,
     "metadata": {},
     "output_type": "execute_result"
    }
   ],
   "source": [
    "num_list"
   ]
  },
  {
   "cell_type": "markdown",
   "metadata": {},
   "source": [
    "## 基本数据结构之：字典"
   ]
  },
  {
   "cell_type": "markdown",
   "metadata": {},
   "source": [
    "### 基本操作"
   ]
  },
  {
   "cell_type": "markdown",
   "metadata": {},
   "source": [
    "**初始化字典**"
   ]
  },
  {
   "cell_type": "code",
   "execution_count": 96,
   "metadata": {
    "ExecuteTime": {
     "end_time": "2020-07-24T04:28:07.736320Z",
     "start_time": "2020-07-24T04:28:07.733476Z"
    }
   },
   "outputs": [],
   "source": [
    "people_dict = {\"name\":\"Alice\", \"age\": 40}"
   ]
  },
  {
   "cell_type": "code",
   "execution_count": 98,
   "metadata": {
    "ExecuteTime": {
     "end_time": "2020-07-24T04:28:43.394961Z",
     "start_time": "2020-07-24T04:28:43.390790Z"
    }
   },
   "outputs": [
    {
     "data": {
      "text/plain": [
       "40"
      ]
     },
     "execution_count": 98,
     "metadata": {},
     "output_type": "execute_result"
    }
   ],
   "source": [
    "people_dict[\"age\"]"
   ]
  },
  {
   "cell_type": "markdown",
   "metadata": {},
   "source": [
    "**取key, value，以及items**"
   ]
  },
  {
   "cell_type": "code",
   "execution_count": 104,
   "metadata": {
    "ExecuteTime": {
     "end_time": "2020-07-24T04:32:31.585204Z",
     "start_time": "2020-07-24T04:32:31.581838Z"
    }
   },
   "outputs": [
    {
     "name": "stdout",
     "output_type": "stream",
     "text": [
      "{'name': 'Alice', 'age': 50}\n"
     ]
    }
   ],
   "source": [
    "for key, value in people_dict.items():\n",
    "    if key == \"age\":\n",
    "        people_dict[key] = 50\n",
    "        \n",
    "print(people_dict)        "
   ]
  },
  {
   "cell_type": "code",
   "execution_count": 105,
   "metadata": {
    "ExecuteTime": {
     "end_time": "2020-07-24T04:32:54.691052Z",
     "start_time": "2020-07-24T04:32:54.687905Z"
    }
   },
   "outputs": [
    {
     "name": "stdout",
     "output_type": "stream",
     "text": [
      "{'name': 'Alice', 'age': 60}\n"
     ]
    }
   ],
   "source": [
    "people_dict['age'] = 60\n",
    "print(people_dict)"
   ]
  },
  {
   "cell_type": "markdown",
   "metadata": {},
   "source": [
    "**强制转换**"
   ]
  },
  {
   "cell_type": "code",
   "execution_count": 106,
   "metadata": {
    "ExecuteTime": {
     "end_time": "2020-07-24T06:42:25.618614Z",
     "start_time": "2020-07-24T06:42:25.613991Z"
    },
    "code_folding": []
   },
   "outputs": [
    {
     "name": "stdout",
     "output_type": "stream",
     "text": [
      "{'name': 'Tom', 'age': 40, 'city': 'ShenZhen'}\n"
     ]
    }
   ],
   "source": [
    "# dict([(key, value)])\n",
    "attr = ['name', 'age', 'city']\n",
    "value = [\"Tom\", 40, \"ShenZhen\"]\n",
    "\n",
    "new_dict = {}\n",
    "\n",
    "for k_index, key in enumerate(attr):\n",
    "    for v_index, v in enumerate(value):\n",
    "        if k_index == v_index:\n",
    "            new_dict[key] = v\n",
    "print(new_dict)\n",
    "\n"
   ]
  },
  {
   "cell_type": "code",
   "execution_count": 108,
   "metadata": {
    "ExecuteTime": {
     "end_time": "2020-07-24T06:43:07.265920Z",
     "start_time": "2020-07-24T06:43:07.261887Z"
    }
   },
   "outputs": [
    {
     "data": {
      "text/plain": [
       "{'name': 'Tom', 'age': 40, 'city': 'ShenZhen'}"
      ]
     },
     "execution_count": 108,
     "metadata": {},
     "output_type": "execute_result"
    }
   ],
   "source": [
    "dict(zip(attr, value))"
   ]
  },
  {
   "cell_type": "markdown",
   "metadata": {},
   "source": [
    "### 练习1"
   ]
  },
  {
   "cell_type": "markdown",
   "metadata": {},
   "source": [
    "1. 定义一个字典 fruit = {'apple': 10, 'banana': 4, 'pear': 5}\n",
    "2. 取字典的所有键\n",
    "3. 取字典所有的值"
   ]
  },
  {
   "cell_type": "code",
   "execution_count": null,
   "metadata": {},
   "outputs": [],
   "source": [
    "people_dict.keys(), people_dict.values(), people_dict.items()"
   ]
  },
  {
   "cell_type": "code",
   "execution_count": 109,
   "metadata": {
    "ExecuteTime": {
     "end_time": "2020-07-24T06:48:21.477993Z",
     "start_time": "2020-07-24T06:48:21.472201Z"
    }
   },
   "outputs": [],
   "source": [
    "face_dict = {'ImageWidth': 1824, 'ImageHeight': 2736, \n",
    "             'FaceInfos': [{'X': 385, 'Y': 134, 'Width': 1055, \n",
    "              'Height': 1417, 'FaceAttributesInfo': \n",
    "              {'Gender': 0, 'Age': 21, 'Expression': 15, 'Glass': False,\n",
    "              'Pitch': 9, 'Yaw': 7, 'Roll': 8, 'Beauty': 93, \n",
    "               'Hat': False, 'Mask': False, 'Hair': \n",
    "                     {'Length': 3, 'Bang': 1, 'Color': 0}, 'EyeOpen': True}, \n",
    "                     'FaceQualityInfo': {'Score': 0, 'Sharpness': 0, \n",
    "                      'Brightness': 0, 'Completeness': \n",
    "                            {'Eyebrow': 0, 'Eye': 0, 'Nose': 0, 'Cheek': 0, \n",
    "                             'Mouth': 0, 'Chin': 0\n",
    "                }}}], 'FaceModelVersion': '2.0',\n",
    "             'RequestId': 'ea82f374-f6a6-48bd-a4c0-5035e7ea87a6'}"
   ]
  },
  {
   "cell_type": "code",
   "execution_count": 115,
   "metadata": {
    "ExecuteTime": {
     "end_time": "2020-07-24T06:53:55.078718Z",
     "start_time": "2020-07-24T06:53:55.074809Z"
    }
   },
   "outputs": [
    {
     "data": {
      "text/plain": [
       "93"
      ]
     },
     "execution_count": 115,
     "metadata": {},
     "output_type": "execute_result"
    }
   ],
   "source": [
    "face_dict['FaceInfos'][0][\"FaceAttributesInfo\"][\"Beauty\"]"
   ]
  },
  {
   "cell_type": "markdown",
   "metadata": {},
   "source": [
    "# Python内置函数"
   ]
  },
  {
   "cell_type": "markdown",
   "metadata": {},
   "source": [
    "**range**"
   ]
  },
  {
   "cell_type": "code",
   "execution_count": 117,
   "metadata": {
    "ExecuteTime": {
     "end_time": "2020-07-24T06:56:09.293346Z",
     "start_time": "2020-07-24T06:56:09.289013Z"
    }
   },
   "outputs": [
    {
     "data": {
      "text/plain": [
       "range(0, 100000000000000000000000)"
      ]
     },
     "execution_count": 117,
     "metadata": {},
     "output_type": "execute_result"
    }
   ],
   "source": [
    "range(100000000000000000000000)"
   ]
  },
  {
   "cell_type": "code",
   "execution_count": 121,
   "metadata": {
    "ExecuteTime": {
     "end_time": "2020-07-24T06:57:59.528076Z",
     "start_time": "2020-07-24T06:57:59.524117Z"
    }
   },
   "outputs": [
    {
     "data": {
      "text/plain": [
       "[0, 1, 2, 3, 4, 5, 6, 7, 8, 9]"
      ]
     },
     "execution_count": 121,
     "metadata": {},
     "output_type": "execute_result"
    }
   ],
   "source": [
    "list(range(10))"
   ]
  },
  {
   "cell_type": "markdown",
   "metadata": {},
   "source": [
    "**enumerate**"
   ]
  },
  {
   "cell_type": "code",
   "execution_count": 123,
   "metadata": {
    "ExecuteTime": {
     "end_time": "2020-07-24T06:58:45.767519Z",
     "start_time": "2020-07-24T06:58:45.763663Z"
    }
   },
   "outputs": [
    {
     "name": "stdout",
     "output_type": "stream",
     "text": [
      "0 1\n",
      "1 3\n",
      "2 5\n",
      "3 9\n"
     ]
    }
   ],
   "source": [
    "for index, value in enumerate([1, 3, 5, 9]):\n",
    "    print(index, value)"
   ]
  },
  {
   "cell_type": "markdown",
   "metadata": {},
   "source": [
    "**type**"
   ]
  },
  {
   "cell_type": "code",
   "execution_count": 124,
   "metadata": {
    "ExecuteTime": {
     "end_time": "2020-07-24T06:59:26.070373Z",
     "start_time": "2020-07-24T06:59:26.066513Z"
    }
   },
   "outputs": [
    {
     "data": {
      "text/plain": [
       "list"
      ]
     },
     "execution_count": 124,
     "metadata": {},
     "output_type": "execute_result"
    }
   ],
   "source": [
    "type(num_list)"
   ]
  },
  {
   "cell_type": "markdown",
   "metadata": {},
   "source": [
    "**len**"
   ]
  },
  {
   "cell_type": "code",
   "execution_count": 125,
   "metadata": {
    "ExecuteTime": {
     "end_time": "2020-07-24T06:59:31.327341Z",
     "start_time": "2020-07-24T06:59:31.323070Z"
    }
   },
   "outputs": [
    {
     "data": {
      "text/plain": [
       "11"
      ]
     },
     "execution_count": 125,
     "metadata": {},
     "output_type": "execute_result"
    }
   ],
   "source": [
    "len(num_list)"
   ]
  },
  {
   "cell_type": "markdown",
   "metadata": {},
   "source": [
    "**zip**"
   ]
  },
  {
   "cell_type": "code",
   "execution_count": 130,
   "metadata": {
    "ExecuteTime": {
     "end_time": "2020-07-24T07:00:19.527782Z",
     "start_time": "2020-07-24T07:00:19.523164Z"
    }
   },
   "outputs": [
    {
     "data": {
      "text/plain": [
       "{'name': 'Tom', 'age': 40, 'city': 'ShenZhen'}"
      ]
     },
     "execution_count": 130,
     "metadata": {},
     "output_type": "execute_result"
    }
   ],
   "source": [
    "attr = ['name', 'age', 'city']\n",
    "value = [\"Tom\", 40, \"ShenZhen\"]\n",
    "dict(zip(attr, value))"
   ]
  },
  {
   "cell_type": "markdown",
   "metadata": {},
   "source": [
    "**isinstance**"
   ]
  },
  {
   "cell_type": "code",
   "execution_count": 131,
   "metadata": {
    "ExecuteTime": {
     "end_time": "2020-07-24T07:00:35.282838Z",
     "start_time": "2020-07-24T07:00:35.278762Z"
    }
   },
   "outputs": [
    {
     "data": {
      "text/plain": [
       "True"
      ]
     },
     "execution_count": 131,
     "metadata": {},
     "output_type": "execute_result"
    }
   ],
   "source": [
    "num_list = [1, 4, 6, 7, \"8\"]\n",
    "\n",
    "for i in num_list:\n",
    "    if isinstance(i, str):\n",
    "        print(\"\")\n",
    "    elif isinstance(i, int):\n",
    "        continue"
   ]
  },
  {
   "cell_type": "markdown",
   "metadata": {},
   "source": [
    "# 控制流"
   ]
  },
  {
   "cell_type": "markdown",
   "metadata": {},
   "source": [
    "> 编程语言中的控制流(Control flow)语句用于控制各操作执行的顺序。\n",
    "\n",
    "一段没有控制流的程序的操作顺序应当是这样的：\n",
    "![image.png](./images/控制流1.png)"
   ]
  },
  {
   "cell_type": "markdown",
   "metadata": {
    "ExecuteTime": {
     "end_time": "2020-07-16T03:28:31.452052Z",
     "start_time": "2020-07-16T03:28:31.448342Z"
    }
   },
   "source": [
    "但是实际生活中，顺序操作并不总是能够满足我们的需求，我们可能需要对流程中的一些步骤加入控制。\n",
    "\n",
    "举个例子，当我们在揉面团的时候，我们首先加入面粉，再倒入一点点水，之后我们还要 判断 目前的加入的水量是否合适，如果过干，需要再加入一点点水，循环 这个步骤，直到我们认为面粉和水的配比合适为止。"
   ]
  },
  {
   "cell_type": "markdown",
   "metadata": {
    "ExecuteTime": {
     "end_time": "2020-07-16T03:29:14.488508Z",
     "start_time": "2020-07-16T03:29:14.484533Z"
    }
   },
   "source": [
    "![](./images/control-flow-2.png)"
   ]
  },
  {
   "cell_type": "markdown",
   "metadata": {},
   "source": [
    "上面的这个流程中就包含了 判断 和 循环 两种控制流处理。\n",
    "\n"
   ]
  },
  {
   "cell_type": "markdown",
   "metadata": {},
   "source": [
    "## Python条件语句"
   ]
  },
  {
   "cell_type": "markdown",
   "metadata": {},
   "source": [
    "if 语句是是一种条件语句，根据条件为 true 还是 false 运行或执行相关代码。下面是一个简单的示例：\n",
    "\n",
    "```python\n",
    "if tmall_balance < 5:\n",
    "    tmall_balance += 10\n",
    "    bank_balance -= 10\n",
    "\n",
    "```"
   ]
  },
  {
   "cell_type": "code",
   "execution_count": 136,
   "metadata": {
    "ExecuteTime": {
     "end_time": "2020-07-24T07:06:38.461561Z",
     "start_time": "2020-07-24T07:06:38.458019Z"
    }
   },
   "outputs": [],
   "source": [
    "tmall_balance = 1\n",
    "bank_balance = 1000\n",
    "\n",
    "if tmall_balance < 5:\n",
    "    tmall_balance += 5\n",
    "    bank_balance -= 5\n",
    "else:\n",
    "    print(\"账户余额充足！\")"
   ]
  },
  {
   "cell_type": "code",
   "execution_count": 137,
   "metadata": {
    "ExecuteTime": {
     "end_time": "2020-07-24T07:06:42.077536Z",
     "start_time": "2020-07-24T07:06:42.073463Z"
    }
   },
   "outputs": [
    {
     "data": {
      "text/plain": [
       "6"
      ]
     },
     "execution_count": 137,
     "metadata": {},
     "output_type": "execute_result"
    }
   ],
   "source": [
    "tmall_balance"
   ]
  },
  {
   "cell_type": "code",
   "execution_count": 138,
   "metadata": {
    "ExecuteTime": {
     "end_time": "2020-07-24T07:06:46.152481Z",
     "start_time": "2020-07-24T07:06:46.148790Z"
    }
   },
   "outputs": [
    {
     "data": {
      "text/plain": [
       "995"
      ]
     },
     "execution_count": 138,
     "metadata": {},
     "output_type": "execute_result"
    }
   ],
   "source": [
    "bank_balance"
   ]
  },
  {
   "cell_type": "markdown",
   "metadata": {},
   "source": [
    "我们来详细讲解下每部分。\n",
    "\n"
   ]
  },
  {
   "cell_type": "markdown",
   "metadata": {},
   "source": [
    "### 布尔表达式\n",
    "- 常见的结果为True和False的情况\n",
    "  - True/False\n",
    "  - 数字：0为假，非0为真\n",
    "  - 字符串, 字节串, list, tuple, dict, set:空为假，非空为真\n",
    "  - None: 假"
   ]
  },
  {
   "cell_type": "code",
   "execution_count": 141,
   "metadata": {
    "ExecuteTime": {
     "end_time": "2020-07-24T07:10:48.454129Z",
     "start_time": "2020-07-24T07:10:48.446105Z"
    }
   },
   "outputs": [
    {
     "data": {
      "text/plain": [
       "True"
      ]
     },
     "execution_count": 141,
     "metadata": {},
     "output_type": "execute_result"
    }
   ],
   "source": [
    "# exercise 1\n",
    "age = 20\n",
    "age > 18\n",
    "\n",
    "# exercise 2\n",
    "resp = None\n",
    "# False\n",
    "if resp:\n",
    "    pass\n",
    "\n",
    "\"\"\n",
    "[]\n",
    "{}\n",
    "0\n",
    "None\n",
    "\n",
    "if []:\n",
    "    pass\n",
    "else:\n",
    "    pass\n",
    "\n",
    "\n",
    "    \n",
    "\n",
    "# exercise 3\n",
    "age = 20\n",
    "gender = \"male\"\n",
    "age > 30 and gender == \"male\"\n",
    "\n",
    "# exercise 4\n",
    "age = 20\n",
    "gender = \"male\"\n",
    "age > 30 or gender == \"male\"\n",
    "\n",
    "# exercise 5\n",
    "\"Python\" in [\"Java\", \"Python\", \"C\", \"Golang\"]\n",
    "\n",
    "# exercise 6\n",
    "[\"Python\"] in [\"Java\", [\"Python\"], \"C\", \"Golang\"]\n"
   ]
  },
  {
   "cell_type": "markdown",
   "metadata": {},
   "source": [
    "### 完整的条件语句\n",
    "- 分支语句：if..elif..elif..else"
   ]
  },
  {
   "cell_type": "code",
   "execution_count": 142,
   "metadata": {
    "ExecuteTime": {
     "end_time": "2020-07-24T07:12:04.701064Z",
     "start_time": "2020-07-24T07:11:56.560683Z"
    }
   },
   "outputs": [
    {
     "name": "stdout",
     "output_type": "stream",
     "text": [
      "请输入你的年龄：40\n"
     ]
    }
   ],
   "source": [
    "age = int(input(\"请输入你的年龄：\"))"
   ]
  },
  {
   "cell_type": "code",
   "execution_count": null,
   "metadata": {},
   "outputs": [],
   "source": [
    "if age >= 60:\n",
    "    print(\"老年人\")\n",
    "elif age >= 30:\n",
    "    print(\"中年人\")\n",
    "elif age >= 18:\n",
    "    print(\"成年人\")\n",
    "else:\n",
    "    print(\"未成年人！\")"
   ]
  },
  {
   "cell_type": "markdown",
   "metadata": {},
   "source": [
    "### 练习1"
   ]
  },
  {
   "cell_type": "markdown",
   "metadata": {},
   "source": [
    "- 从键盘输入一个数，判断是奇数还是偶数"
   ]
  },
  {
   "cell_type": "markdown",
   "metadata": {},
   "source": [
    "### 练习2"
   ]
  },
  {
   "cell_type": "markdown",
   "metadata": {
    "ExecuteTime": {
     "end_time": "2020-07-16T02:26:02.520759Z",
     "start_time": "2020-07-16T02:26:02.516752Z"
    }
   },
   "source": [
    "某景区门票价格为180元，请编写一段程序，从键盘接受用户输入的年龄，根据该年龄判断可以享受的票价折扣及票价。\n",
    "- 如果是18岁及以上，全票（180元） \n",
    "- 12-18，半票（5折）\n",
    "- 12岁以下，免费"
   ]
  },
  {
   "cell_type": "markdown",
   "metadata": {
    "heading_collapsed": true
   },
   "source": [
    "### 家庭作业"
   ]
  },
  {
   "cell_type": "markdown",
   "metadata": {
    "hidden": true
   },
   "source": [
    "- 编写一段程序，根据用户的账号积分，判断用户可以兑换的奖品\n",
    "- 积分大于5000，可以兑换一台Ipad\n",
    "- 积分大于1000，小于5000，可以兑换一盒欧莱雅面膜\n",
    "- 积分大于500，小于1000，可以兑换欧莱雅店铺的20元代金券\n",
    "- 积分大于100， 小于500，兑换欧莱雅洗发水试用装\n",
    "- 积分小于100，无法兑换任何奖品"
   ]
  },
  {
   "cell_type": "markdown",
   "metadata": {},
   "source": [
    "## Python循环语句"
   ]
  },
  {
   "cell_type": "markdown",
   "metadata": {},
   "source": [
    "### for循环"
   ]
  },
  {
   "cell_type": "markdown",
   "metadata": {},
   "source": [
    "> `for`循环是一种有限的循环，循环体运行的次数是提前定义好的。其用来遍历的对象称为可迭代对象，可迭代对象是每次可以返回其中一个元素的对象，包括字符串、列表和元组等序列类型，以及字典和文件等非序列类型。"
   ]
  },
  {
   "cell_type": "code",
   "execution_count": null,
   "metadata": {},
   "outputs": [],
   "source": [
    "for i in [1, 3, 5, 7]:\n",
    "    print()"
   ]
  },
  {
   "cell_type": "code",
   "execution_count": null,
   "metadata": {},
   "outputs": [],
   "source": [
    "sum()"
   ]
  },
  {
   "cell_type": "markdown",
   "metadata": {},
   "source": [
    "### while 循环"
   ]
  },
  {
   "cell_type": "markdown",
   "metadata": {
    "ExecuteTime": {
     "end_time": "2020-07-16T02:26:50.734298Z",
     "start_time": "2020-07-16T02:26:50.728739Z"
    }
   },
   "source": [
    "![循环流程图](images/循环流程图.png)\n",
    "- 死循环\n",
    "    - 由于没有在循环内部修改循环的判断条件，导致循环持续执行，程序无法终止"
   ]
  },
  {
   "cell_type": "code",
   "execution_count": 144,
   "metadata": {
    "ExecuteTime": {
     "end_time": "2020-07-24T07:24:46.831569Z",
     "start_time": "2020-07-24T07:24:46.827864Z"
    },
    "collapsed": true
   },
   "outputs": [
    {
     "name": "stdout",
     "output_type": "stream",
     "text": [
      "Hello!\n",
      "Hello!\n",
      "Hello!\n",
      "Hello!\n",
      "Hello!\n",
      "Hello!\n",
      "Hello!\n",
      "Hello!\n",
      "Hello!\n",
      "Hello!\n"
     ]
    }
   ],
   "source": [
    "flag = 0\n",
    "\n",
    "while flag<10:\n",
    "    print(\"Hello!\")\n",
    "    flag += 1"
   ]
  },
  {
   "cell_type": "markdown",
   "metadata": {},
   "source": [
    "### continue和break"
   ]
  },
  {
   "cell_type": "markdown",
   "metadata": {},
   "source": [
    "有时候我们需要更精准地控制何时循环应该结束，或者跳过某个迭代。在这些情况下，我们使用关键字 break 和 continue，这两个关键字可以用于 for 和 while 循环。\n",
    "\n",
    "- break 使循环终止\n",
    "- continue 跳过循环的一次迭代"
   ]
  },
  {
   "cell_type": "code",
   "execution_count": 146,
   "metadata": {
    "ExecuteTime": {
     "end_time": "2020-07-24T07:27:25.676681Z",
     "start_time": "2020-07-24T07:27:25.673241Z"
    },
    "scrolled": true
   },
   "outputs": [
    {
     "name": "stdout",
     "output_type": "stream",
     "text": [
      "0\n",
      "1\n",
      "2\n",
      "3\n",
      "4\n",
      "6\n"
     ]
    }
   ],
   "source": [
    "for i in range(10):\n",
    "    if i==5:\n",
    "        continue\n",
    "    if i==7:\n",
    "        break\n",
    "    print(i)  "
   ]
  },
  {
   "cell_type": "markdown",
   "metadata": {},
   "source": [
    "### 练习1\n",
    "- news_body为新闻的内容列表，每个元素为一句话\n",
    "- 现需要提取文章摘要，要求，摘要不超过100个字符，并且里面的句子是完整的。"
   ]
  },
  {
   "cell_type": "code",
   "execution_count": 150,
   "metadata": {
    "ExecuteTime": {
     "end_time": "2020-07-24T07:33:12.294252Z",
     "start_time": "2020-07-24T07:33:12.288918Z"
    }
   },
   "outputs": [
    {
     "name": "stdout",
     "output_type": "stream",
     "text": [
      "51\n"
     ]
    }
   ],
   "source": [
    "news_body = [\"中国美妆市场在这几年增速非常快!\",\n",
    "             \"疫情之后恢复也很快，全球的化妆品行业企业都认识到中国将会是最大的市场。\",\n",
    "             \"欧莱雅中国总裁兼CEO费博瑞日前在接受第一财经记者专访时表示，接下来的几个月内，中国的消费者还暂时不能到海外去消费，这也给在境内的化妆品企业更多机会。\",\n",
    "             \"面对疫情，全球美容行业整体受挫的情况下，欧莱雅中国仍实现了逆势增长。\",\n",
    "             \"根据其最新的财报显示，一季度欧莱雅全球销售额同比下滑4.8%，而中国市场却逆势反增6.4%。\",\n",
    "             \"二季度数据尽管尚未公布，不过第一财经记者获悉，中国市场在其全球市场中的业绩表现仍十分突出。\",\n",
    "            ]\n",
    "\n",
    "news_except = \"\"\n",
    "# write your loop here\n",
    "for i in news_body:\n",
    "    tmp = news_except + i\n",
    "    if len(tmp) > 100:\n",
    "        break\n",
    "    news_except = tmp\n",
    "print(len(news_except))"
   ]
  },
  {
   "cell_type": "markdown",
   "metadata": {
    "heading_collapsed": true
   },
   "source": [
    "### 家庭作业"
   ]
  },
  {
   "cell_type": "markdown",
   "metadata": {
    "hidden": true
   },
   "source": [
    "打印如下九九乘法表\n",
    "![九九乘法表](images/九九乘法表.png)"
   ]
  },
  {
   "cell_type": "markdown",
   "metadata": {
    "hidden": true
   },
   "source": [
    "- 第一个乘数是所在列的序号\n",
    "- 第二个乘数是所在行的序号\n",
    "- 每一个乘法表达式的第一个乘数都小于第二个\n",
    "- 每俩个同一列的表达式都会有间隔，但是间隔不一定一样"
   ]
  }
 ],
 "metadata": {
  "kernelspec": {
   "display_name": "Python 3",
   "language": "python",
   "name": "python3"
  },
  "language_info": {
   "codemirror_mode": {
    "name": "ipython",
    "version": 3
   },
   "file_extension": ".py",
   "mimetype": "text/x-python",
   "name": "python",
   "nbconvert_exporter": "python",
   "pygments_lexer": "ipython3",
   "version": "3.7.7"
  },
  "toc": {
   "base_numbering": 1,
   "nav_menu": {},
   "number_sections": false,
   "sideBar": true,
   "skip_h1_title": false,
   "title_cell": "Table of Contents",
   "title_sidebar": "Contents",
   "toc_cell": false,
   "toc_position": {
    "height": "461.446px",
    "left": "24px",
    "top": "110.571px",
    "width": "165px"
   },
   "toc_section_display": true,
   "toc_window_display": true
  }
 },
 "nbformat": 4,
 "nbformat_minor": 2
}
