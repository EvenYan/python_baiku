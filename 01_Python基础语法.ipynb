{
 "cells": [
  {
   "cell_type": "markdown",
   "metadata": {},
   "source": [
    "# Python简介"
   ]
  },
  {
   "cell_type": "markdown",
   "metadata": {},
   "source": [
    "**Python的起源**\n",
    "- 创始人：吉多·范罗苏姆（Guido van Rossum）\n",
    "    "
   ]
  },
  {
   "cell_type": "markdown",
   "metadata": {},
   "source": [
    "# **Python语法规则**"
   ]
  },
  {
   "cell_type": "markdown",
   "metadata": {},
   "source": [
    "## 二级标题"
   ]
  },
  {
   "cell_type": "markdown",
   "metadata": {},
   "source": [
    "- 语句之间断行"
   ]
  },
  {
   "cell_type": "markdown",
   "metadata": {},
   "source": [
    "- 块之间缩进"
   ]
  },
  {
   "cell_type": "markdown",
   "metadata": {},
   "source": [
    "- 注释\n",
    "    - 单行注释：`#`\n",
    "    - 多行注释：`\"\"\"`或`'''`"
   ]
  },
  {
   "cell_type": "code",
   "execution_count": 11,
   "metadata": {
    "ExecuteTime": {
     "end_time": "2020-07-24T03:06:35.853721Z",
     "start_time": "2020-07-24T03:06:35.851236Z"
    }
   },
   "outputs": [],
   "source": [
    "a = 10\n",
    "b = 20"
   ]
  },
  {
   "cell_type": "code",
   "execution_count": 13,
   "metadata": {
    "ExecuteTime": {
     "end_time": "2020-07-24T03:07:52.090239Z",
     "start_time": "2020-07-24T03:07:52.086502Z"
    },
    "collapsed": true
   },
   "outputs": [
    {
     "name": "stdout",
     "output_type": "stream",
     "text": [
      "Hello World!\n",
      "Hello World!\n",
      "Hello World!\n",
      "Hello World!\n",
      "Hello World!\n",
      "Hello World!\n",
      "Hello World!\n",
      "Hello World!\n",
      "Hello World!\n",
      "Hello World!\n",
      "End\n"
     ]
    }
   ],
   "source": [
    "for i in range(10):\n",
    "    print(\"Hello World!\")\n",
    "print(\"End\")"
   ]
  },
  {
   "cell_type": "code",
   "execution_count": 14,
   "metadata": {
    "ExecuteTime": {
     "end_time": "2020-07-24T03:11:17.260917Z",
     "start_time": "2020-07-24T03:11:17.257758Z"
    }
   },
   "outputs": [],
   "source": [
    "# 定义一个变量c，表示销量\n",
    "c = 50\n",
    "\n",
    "def get_data_from_db(row):\n",
    "    \"\"\"从数据库中获取数据\n",
    "    XXXXXX\n",
    "    XXXXXX\n",
    "    args:\n",
    "        row: 想要获取的代码的行数\n",
    "    errors:\n",
    "        XXXError: xxxx\n",
    "        XXXError1: XXXX\n",
    "    \"\"\"\n",
    "    pass"
   ]
  },
  {
   "cell_type": "code",
   "execution_count": null,
   "metadata": {},
   "outputs": [],
   "source": [
    "get_data_from_db()"
   ]
  },
  {
   "cell_type": "markdown",
   "metadata": {},
   "source": [
    "# 基本数据类型"
   ]
  },
  {
   "cell_type": "markdown",
   "metadata": {},
   "source": [
    "## Number类型"
   ]
  },
  {
   "cell_type": "markdown",
   "metadata": {},
   "source": [
    "### 基本数据类型之：整型(Number类型)"
   ]
  },
  {
   "cell_type": "markdown",
   "metadata": {},
   "source": [
    "#### 整形基本运算"
   ]
  },
  {
   "cell_type": "markdown",
   "metadata": {},
   "source": [
    "- 定义\n",
    "- 四则运算\n",
    "- `//`：地板除法\n",
    "- `%`：取余\n",
    "- pow()\n",
    "- **"
   ]
  },
  {
   "cell_type": "markdown",
   "metadata": {},
   "source": [
    "#### 练习"
   ]
  },
  {
   "cell_type": "markdown",
   "metadata": {},
   "source": [
    "- 欧莱雅股价为291元，小库第一次买了100股，第二次买了700股，则一共花了多少钱。"
   ]
  },
  {
   "cell_type": "markdown",
   "metadata": {},
   "source": [
    "### 基本数据类型之：浮点型(Number类型)"
   ]
  },
  {
   "cell_type": "markdown",
   "metadata": {},
   "source": [
    "#### 浮点数的定义"
   ]
  },
  {
   "cell_type": "markdown",
   "metadata": {},
   "source": [
    "**浮点型的四则运算**"
   ]
  },
  {
   "cell_type": "markdown",
   "metadata": {},
   "source": [
    "#### 浮点型和整型的相互转换"
   ]
  },
  {
   "cell_type": "markdown",
   "metadata": {},
   "source": [
    "### 基本数据类型之：bool型(Number类型)"
   ]
  },
  {
   "cell_type": "markdown",
   "metadata": {},
   "source": [
    "## 基本数据类型之：字符串/字节序列"
   ]
  },
  {
   "cell_type": "markdown",
   "metadata": {},
   "source": [
    "### 基本操作"
   ]
  },
  {
   "cell_type": "markdown",
   "metadata": {},
   "source": [
    "**定义字符串**"
   ]
  },
  {
   "cell_type": "markdown",
   "metadata": {
    "ExecuteTime": {
     "end_time": "2020-07-16T08:30:51.791149Z",
     "start_time": "2020-07-16T08:30:51.788749Z"
    }
   },
   "source": [
    "#### 字符串的基本操作"
   ]
  },
  {
   "cell_type": "code",
   "execution_count": 1,
   "metadata": {
    "ExecuteTime": {
     "end_time": "2020-07-23T12:25:34.995118Z",
     "start_time": "2020-07-23T12:25:34.992792Z"
    }
   },
   "outputs": [],
   "source": [
    "# 格式化字符串,%s表示字符串类型，%d表示整型\n"
   ]
  },
  {
   "cell_type": "code",
   "execution_count": 3,
   "metadata": {
    "ExecuteTime": {
     "end_time": "2020-07-23T12:25:41.311705Z",
     "start_time": "2020-07-23T12:25:41.309509Z"
    }
   },
   "outputs": [],
   "source": [
    "# 字符串拼接:+\n"
   ]
  },
  {
   "cell_type": "code",
   "execution_count": 4,
   "metadata": {
    "ExecuteTime": {
     "end_time": "2020-07-23T12:25:43.951965Z",
     "start_time": "2020-07-23T12:25:43.949831Z"
    },
    "scrolled": true
   },
   "outputs": [],
   "source": [
    "# input:从键盘接受输入\n",
    "\n"
   ]
  },
  {
   "cell_type": "code",
   "execution_count": 5,
   "metadata": {
    "ExecuteTime": {
     "end_time": "2020-07-23T12:26:33.137010Z",
     "start_time": "2020-07-23T12:26:33.134478Z"
    }
   },
   "outputs": [],
   "source": [
    "# 字符串的内置函数\n"
   ]
  },
  {
   "cell_type": "markdown",
   "metadata": {},
   "source": [
    "**编解码**"
   ]
  },
  {
   "cell_type": "markdown",
   "metadata": {},
   "source": [
    "- ASCII： 8位01表示一个字符\n",
    "- Unicode： 24位01表示一个字符\n",
    "- UTF-8： "
   ]
  },
  {
   "cell_type": "code",
   "execution_count": 6,
   "metadata": {
    "ExecuteTime": {
     "end_time": "2020-07-23T12:26:53.076966Z",
     "start_time": "2020-07-23T12:26:53.074569Z"
    }
   },
   "outputs": [],
   "source": [
    "# 编码/解码\n",
    "# ASCII\n",
    "# Unicode\n",
    "# UTF-8\n",
    "# GBK\n",
    "# GB2312\n",
    "# cp1252\n",
    "# latin1\n",
    "# iso标准\n",
    "\n",
    "# str ---> bytes\n",
    "\n",
    "# bytes ---> str\n",
    "# 编解码使用同一套规则：建议使用UTF-8\n"
   ]
  },
  {
   "cell_type": "markdown",
   "metadata": {},
   "source": [
    "**字符串/字节序列的长度**"
   ]
  },
  {
   "cell_type": "markdown",
   "metadata": {},
   "source": [
    "**字符串切片**\n",
    "![切片](images/slice.png)"
   ]
  },
  {
   "cell_type": "markdown",
   "metadata": {},
   "source": [
    "### 编解码问题\n",
    "\n",
    "- 编码encode：str ---> bytes\n",
    "- 解码decode: bytes ---> str\n",
    "\n",
    "**注意：编解码最好使用同一套标准**"
   ]
  },
  {
   "cell_type": "markdown",
   "metadata": {},
   "source": [
    "### 家庭作业\n",
    "- 格式化手机号码，要求：\n",
    "    1. 手机号码18612345678 被格式化成186-1234-5678\n",
    "    2. 如果号码数据不是11位的纯数字，就打出错误信息"
   ]
  },
  {
   "cell_type": "markdown",
   "metadata": {},
   "source": [
    "## 基本数据结构之：列表"
   ]
  },
  {
   "cell_type": "markdown",
   "metadata": {},
   "source": [
    "### 基本操作"
   ]
  },
  {
   "cell_type": "markdown",
   "metadata": {},
   "source": [
    "**初始化列表**"
   ]
  },
  {
   "cell_type": "markdown",
   "metadata": {},
   "source": [
    "**切片操作**"
   ]
  },
  {
   "cell_type": "markdown",
   "metadata": {},
   "source": [
    "![切片](images/slice.png)"
   ]
  },
  {
   "cell_type": "markdown",
   "metadata": {},
   "source": [
    "**计算列表的长度**"
   ]
  },
  {
   "cell_type": "markdown",
   "metadata": {},
   "source": [
    "**排序**"
   ]
  },
  {
   "cell_type": "markdown",
   "metadata": {},
   "source": [
    "### 练习1"
   ]
  },
  {
   "cell_type": "markdown",
   "metadata": {},
   "source": [
    "1. 创建一个列表，包含1-10的数字\n",
    "2. 练习列表的切片操作,切出列表的后3个元素\n",
    "3. 在列表后面添加元素：\"END\""
   ]
  },
  {
   "cell_type": "markdown",
   "metadata": {},
   "source": [
    "## 基本数据结构之：字典"
   ]
  },
  {
   "cell_type": "markdown",
   "metadata": {},
   "source": [
    "### 基本操作"
   ]
  },
  {
   "cell_type": "markdown",
   "metadata": {},
   "source": [
    "**初始化字典**"
   ]
  },
  {
   "cell_type": "markdown",
   "metadata": {},
   "source": [
    "**合并字典**"
   ]
  },
  {
   "cell_type": "code",
   "execution_count": 108,
   "metadata": {
    "ExecuteTime": {
     "end_time": "2020-07-14T04:15:28.381184Z",
     "start_time": "2020-07-14T04:15:28.377954Z"
    }
   },
   "outputs": [],
   "source": [
    "# dic1.update(dic2)：合并字典，如果有原字典相同的键，则执行更新\n",
    "people_dict1 = {\"name\": \"Alice\", \"age\": 28, \"city\": \"ShenZhen\"}\n",
    "people_dict2 = {\"name\": \"Tom\", \"height\": 180, \"hobby\": \"Reading\"}"
   ]
  },
  {
   "cell_type": "markdown",
   "metadata": {},
   "source": [
    "**取key, value，以及items**"
   ]
  },
  {
   "cell_type": "markdown",
   "metadata": {},
   "source": [
    "**强制转换**"
   ]
  },
  {
   "cell_type": "code",
   "execution_count": 30,
   "metadata": {
    "ExecuteTime": {
     "end_time": "2020-07-16T05:36:49.056260Z",
     "start_time": "2020-07-16T05:36:49.051701Z"
    }
   },
   "outputs": [
    {
     "name": "stdout",
     "output_type": "stream",
     "text": [
      "{'name': 'Tom', 'age': 40, 'city': 'ShenZhen'}\n"
     ]
    }
   ],
   "source": [
    "# dict([(key, value)])\n",
    "attr = ['name', 'age', 'city']\n",
    "value = [\"Tom\", 40, \"ShenZhen\"]\n",
    "\n",
    "new_dict = {}\n",
    "\n",
    "for k_index, key in enumerate(attr):\n",
    "    for v_index, v in enumerate(value):\n",
    "        if k_index == v_index:\n",
    "            new_dict[key] = v\n",
    "print(new_dict)\n",
    "\n"
   ]
  },
  {
   "cell_type": "markdown",
   "metadata": {},
   "source": [
    "### 练习1"
   ]
  },
  {
   "cell_type": "markdown",
   "metadata": {},
   "source": [
    "1. 定义一个字典 fruit = {'apple': 10, 'banana': 4, 'pear': 5}\n",
    "2. 取字典的所有键\n",
    "3. 取字典所有的值"
   ]
  },
  {
   "cell_type": "markdown",
   "metadata": {},
   "source": [
    "# Python内置函数"
   ]
  },
  {
   "cell_type": "markdown",
   "metadata": {},
   "source": [
    "**range**"
   ]
  },
  {
   "cell_type": "markdown",
   "metadata": {},
   "source": [
    "**enumerate**"
   ]
  },
  {
   "cell_type": "markdown",
   "metadata": {},
   "source": [
    "**type**"
   ]
  },
  {
   "cell_type": "markdown",
   "metadata": {},
   "source": [
    "**len**"
   ]
  },
  {
   "cell_type": "markdown",
   "metadata": {},
   "source": [
    "**zip**"
   ]
  },
  {
   "cell_type": "markdown",
   "metadata": {},
   "source": [
    "**isinstance**"
   ]
  },
  {
   "cell_type": "markdown",
   "metadata": {},
   "source": [
    "# 控制流"
   ]
  },
  {
   "cell_type": "markdown",
   "metadata": {},
   "source": [
    "> 编程语言中的控制流(Control flow)语句用于控制各操作执行的顺序。\n",
    "\n",
    "一段没有控制流的程序的操作顺序应当是这样的：\n",
    "![image.png](./images/控制流1.png)"
   ]
  },
  {
   "cell_type": "markdown",
   "metadata": {
    "ExecuteTime": {
     "end_time": "2020-07-16T03:28:31.452052Z",
     "start_time": "2020-07-16T03:28:31.448342Z"
    }
   },
   "source": [
    "但是实际生活中，顺序操作并不总是能够满足我们的需求，我们可能需要对流程中的一些步骤加入控制。\n",
    "\n",
    "举个例子，当我们在揉面团的时候，我们首先加入面粉，再倒入一点点水，之后我们还要 判断 目前的加入的水量是否合适，如果过干，需要再加入一点点水，循环 这个步骤，直到我们认为面粉和水的配比合适为止。"
   ]
  },
  {
   "cell_type": "markdown",
   "metadata": {
    "ExecuteTime": {
     "end_time": "2020-07-16T03:29:14.488508Z",
     "start_time": "2020-07-16T03:29:14.484533Z"
    }
   },
   "source": [
    "![](./images/control-flow-2.png)"
   ]
  },
  {
   "cell_type": "markdown",
   "metadata": {},
   "source": [
    "上面的这个流程中就包含了 判断 和 循环 两种控制流处理。\n",
    "\n"
   ]
  },
  {
   "cell_type": "markdown",
   "metadata": {},
   "source": [
    "## Python条件语句"
   ]
  },
  {
   "cell_type": "markdown",
   "metadata": {},
   "source": [
    "if 语句是是一种条件语句，根据条件为 true 还是 false 运行或执行相关代码。下面是一个简单的示例：\n",
    "\n",
    "```python\n",
    "if tmall_balance < 5:\n",
    "    tmall_balance += 10\n",
    "    bank_balance -= 10\n",
    "\n",
    "```"
   ]
  },
  {
   "cell_type": "markdown",
   "metadata": {},
   "source": [
    "我们来详细讲解下每部分。\n",
    "\n"
   ]
  },
  {
   "cell_type": "markdown",
   "metadata": {},
   "source": [
    "### 布尔表达式\n",
    "- 常见的结果为True和False的情况\n",
    "  - True/False\n",
    "  - 数字：0为假，非0为真\n",
    "  - 字符串, 字节串, list, tuple, dict, set:空为假，非空为真\n",
    "  - None: 假"
   ]
  },
  {
   "cell_type": "code",
   "execution_count": 1,
   "metadata": {
    "ExecuteTime": {
     "end_time": "2020-07-16T02:25:29.605126Z",
     "start_time": "2020-07-16T02:25:29.593938Z"
    },
    "collapsed": true
   },
   "outputs": [
    {
     "data": {
      "text/plain": [
       "True"
      ]
     },
     "execution_count": 1,
     "metadata": {},
     "output_type": "execute_result"
    }
   ],
   "source": [
    "# exercise 1\n",
    "age = 20\n",
    "age > 18\n",
    "\n",
    "# exercise 2\n",
    "resp = None\n",
    "# False\n",
    "resp\n",
    "\n",
    "\n",
    "# exercise 3\n",
    "age = 20\n",
    "gender = \"male\"\n",
    "age > 30 and gender == \"male\"\n",
    "\n",
    "# exercise 4\n",
    "age = 20\n",
    "gender = \"male\"\n",
    "age > 30 or gender == \"male\"\n",
    "\n",
    "# exercise 5\n",
    "\"Python\" in [\"Java\", \"Python\", \"C\", \"Golang\"]\n",
    "\n",
    "# exercise 6\n",
    "\"Python\" in [\"Java\", [\"Python\"], \"C\", \"Golang\"]\n"
   ]
  },
  {
   "cell_type": "markdown",
   "metadata": {},
   "source": [
    "### 完整的条件语句\n",
    "- 分支语句：if..elif..elif..else"
   ]
  },
  {
   "cell_type": "markdown",
   "metadata": {},
   "source": [
    "### 练习1"
   ]
  },
  {
   "cell_type": "markdown",
   "metadata": {},
   "source": [
    "- 从键盘输入一个数，判断是奇数还是偶数"
   ]
  },
  {
   "cell_type": "markdown",
   "metadata": {},
   "source": [
    "### 练习2"
   ]
  },
  {
   "cell_type": "markdown",
   "metadata": {
    "ExecuteTime": {
     "end_time": "2020-07-16T02:26:02.520759Z",
     "start_time": "2020-07-16T02:26:02.516752Z"
    }
   },
   "source": [
    "某景区门票价格为180元，请编写一段程序，从键盘接受用户输入的年龄，根据该年龄判断可以享受的票价折扣及票价。\n",
    "- 如果是18岁及以上，全票（180元） \n",
    "- 12-18，半票（5折）\n",
    "- 12岁以下，免费"
   ]
  },
  {
   "cell_type": "markdown",
   "metadata": {},
   "source": [
    "### 家庭作业"
   ]
  },
  {
   "cell_type": "markdown",
   "metadata": {},
   "source": [
    "- 编写一段程序，根据用户的账号积分，判断用户可以兑换的奖品\n",
    "- 积分大于5000，可以兑换一台Ipad\n",
    "- 积分大于1000，小于5000，可以兑换一盒欧莱雅面膜\n",
    "- 积分大于500，小于1000，可以兑换欧莱雅店铺的20元代金券\n",
    "- 积分大于100， 小于500，兑换欧莱雅洗发水试用装\n",
    "- 积分小于100，无法兑换任何奖品"
   ]
  },
  {
   "cell_type": "markdown",
   "metadata": {},
   "source": [
    "## Python循环语句"
   ]
  },
  {
   "cell_type": "markdown",
   "metadata": {},
   "source": [
    "### for循环\n",
    "> `for`循环是一种有限的循环，循环体运行的次数是提前定义好的。其用来遍历的对象称为可迭代对象，可迭代对象是每次可以返回其中一个元素的对象，包括字符串、列表和元组等序列类型，以及字典和文件等非序列类型。"
   ]
  },
  {
   "cell_type": "markdown",
   "metadata": {
    "ExecuteTime": {
     "end_time": "2020-07-16T02:26:50.734298Z",
     "start_time": "2020-07-16T02:26:50.728739Z"
    }
   },
   "source": [
    "### while 循环\n",
    "![循环流程图](images/循环流程图.png)\n",
    "- 死循环\n",
    "    - 由于没有在循环内部修改循环的判断条件，导致循环持续执行，程序无法终止"
   ]
  },
  {
   "cell_type": "markdown",
   "metadata": {},
   "source": [
    "## continue和break"
   ]
  },
  {
   "cell_type": "markdown",
   "metadata": {},
   "source": [
    "有时候我们需要更精准地控制何时循环应该结束，或者跳过某个迭代。在这些情况下，我们使用关键字 break 和 continue，这两个关键字可以用于 for 和 while 循环。\n",
    "\n",
    "- break 使循环终止\n",
    "- continue 跳过循环的一次迭代"
   ]
  },
  {
   "cell_type": "markdown",
   "metadata": {},
   "source": [
    "### 练习1\n",
    "- news_body为新闻的内容列表，每个元素为一句话\n",
    "- 现需要提取文章摘要，要求，摘要不超过100个字符，并且里面的句子是完整的。"
   ]
  },
  {
   "cell_type": "code",
   "execution_count": 10,
   "metadata": {
    "ExecuteTime": {
     "end_time": "2020-07-24T00:08:30.019774Z",
     "start_time": "2020-07-24T00:08:30.016626Z"
    }
   },
   "outputs": [],
   "source": [
    "news_body = [\"中国美妆市场在这几年增速非常快!\",\n",
    "             \"疫情之后恢复也很快，全球的化妆品行业企业都认识到中国将会是最大的市场。\",\n",
    "             \"欧莱雅中国总裁兼CEO费博瑞日前在接受第一财经记者专访时表示，接下来的几个月内，中国的消费者还暂时不能到海外去消费，这也给在境内的化妆品企业更多机会。\",\n",
    "             \"面对疫情，全球美容行业整体受挫的情况下，欧莱雅中国仍实现了逆势增长。\",\n",
    "             \"根据其最新的财报显示，一季度欧莱雅全球销售额同比下滑4.8%，而中国市场却逆势反增6.4%。\",\n",
    "             \"二季度数据尽管尚未公布，不过第一财经记者获悉，中国市场在其全球市场中的业绩表现仍十分突出。\",\n",
    "            ]\n",
    "\n",
    "news_except = \"\"\n",
    "# write your loop here\n",
    "\n",
    "    \n",
    "    "
   ]
  },
  {
   "cell_type": "markdown",
   "metadata": {},
   "source": [
    "## 练习2"
   ]
  },
  {
   "cell_type": "markdown",
   "metadata": {},
   "source": [
    "打印如下九九乘法表\n",
    "![九九乘法表](images/九九乘法表.png)"
   ]
  },
  {
   "cell_type": "markdown",
   "metadata": {},
   "source": [
    "- 第一个乘数是所在列的序号\n",
    "- 第二个乘数是所在行的序号\n",
    "- 每一个乘法表达式的第一个乘数都小于第二个\n",
    "- 每俩个同一列的表达式都会有间隔，但是间隔不一定一样"
   ]
  }
 ],
 "metadata": {
  "kernelspec": {
   "display_name": "Python 3",
   "language": "python",
   "name": "python3"
  },
  "language_info": {
   "codemirror_mode": {
    "name": "ipython",
    "version": 3
   },
   "file_extension": ".py",
   "mimetype": "text/x-python",
   "name": "python",
   "nbconvert_exporter": "python",
   "pygments_lexer": "ipython3",
   "version": "3.7.7"
  },
  "toc": {
   "base_numbering": 1,
   "nav_menu": {},
   "number_sections": false,
   "sideBar": true,
   "skip_h1_title": false,
   "title_cell": "Table of Contents",
   "title_sidebar": "Contents",
   "toc_cell": false,
   "toc_position": {
    "height": "461.45px",
    "left": "35px",
    "top": "110.26px",
    "width": "165px"
   },
   "toc_section_display": true,
   "toc_window_display": false
  }
 },
 "nbformat": 4,
 "nbformat_minor": 2
}
