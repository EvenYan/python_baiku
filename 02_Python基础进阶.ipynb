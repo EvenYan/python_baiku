{
 "cells": [
  {
   "cell_type": "markdown",
   "metadata": {},
   "source": [
    "# 函数"
   ]
  },
  {
   "cell_type": "markdown",
   "metadata": {},
   "source": [
    "## 认识函数"
   ]
  },
  {
   "cell_type": "code",
   "execution_count": 20,
   "metadata": {
    "ExecuteTime": {
     "end_time": "2020-07-24T07:51:15.907231Z",
     "start_time": "2020-07-24T07:51:15.903281Z"
    }
   },
   "outputs": [],
   "source": [
    "import hashlib\n",
    "\n",
    "def gen_secret(passwd, flag):\n",
    "    md5 = hashlib.md5()\n",
    "    md5.update(passwd.encode(flag))\n",
    "    ret = md5.hexdigest()\n",
    "    return ret, passwd\n"
   ]
  },
  {
   "cell_type": "code",
   "execution_count": 22,
   "metadata": {
    "ExecuteTime": {
     "end_time": "2020-07-24T07:51:35.585248Z",
     "start_time": "2020-07-24T07:51:35.582267Z"
    }
   },
   "outputs": [],
   "source": [
    "def foo():\n",
    "    print(\"Hello\")"
   ]
  },
  {
   "cell_type": "code",
   "execution_count": 23,
   "metadata": {
    "ExecuteTime": {
     "end_time": "2020-07-24T07:51:44.526723Z",
     "start_time": "2020-07-24T07:51:44.523669Z"
    }
   },
   "outputs": [
    {
     "name": "stdout",
     "output_type": "stream",
     "text": [
      "Hello\n",
      "None\n"
     ]
    }
   ],
   "source": [
    "ret = foo()\n",
    "\n",
    "print(ret)"
   ]
  },
  {
   "cell_type": "code",
   "execution_count": 21,
   "metadata": {
    "ExecuteTime": {
     "end_time": "2020-07-24T07:51:17.323131Z",
     "start_time": "2020-07-24T07:51:17.318640Z"
    },
    "scrolled": true
   },
   "outputs": [
    {
     "data": {
      "text/plain": [
       "('63a9f0ea7bb98050796b649e85481845', 'root')"
      ]
     },
     "execution_count": 21,
     "metadata": {},
     "output_type": "execute_result"
    }
   ],
   "source": [
    "r = gen_secret(flag = \"gb2312\",passwd=\"root\")\n",
    "\n",
    "r"
   ]
  },
  {
   "cell_type": "code",
   "execution_count": 30,
   "metadata": {
    "ExecuteTime": {
     "end_time": "2020-07-24T07:54:19.159306Z",
     "start_time": "2020-07-24T07:54:19.155628Z"
    }
   },
   "outputs": [],
   "source": [
    "import hashlib\n",
    "\n",
    "def gen(passwd):\n",
    "    md5 = hashlib.md5()\n",
    "    md5.update(passwd.encode(\"utf-8\"))\n",
    "    ret = md5.hexdigest()\n",
    "    return ret\n"
   ]
  },
  {
   "cell_type": "code",
   "execution_count": 31,
   "metadata": {
    "ExecuteTime": {
     "end_time": "2020-07-24T07:54:20.513906Z",
     "start_time": "2020-07-24T07:54:20.509989Z"
    }
   },
   "outputs": [
    {
     "data": {
      "text/plain": [
       "'21232f297a57a5a743894a0e4a801fc3'"
      ]
     },
     "execution_count": 31,
     "metadata": {},
     "output_type": "execute_result"
    }
   ],
   "source": [
    "gen_secret1('admin')\n"
   ]
  },
  {
   "cell_type": "markdown",
   "metadata": {
    "ExecuteTime": {
     "end_time": "2020-07-16T02:21:26.878859Z",
     "start_time": "2020-07-16T02:21:26.874994Z"
    }
   },
   "source": [
    "函数：在一个完整的项目中，某些功能会反复的使用，那么会将功能会反复的使用，那么会将功能封装成函数，当我们要使用此功能的时候调用即可。\n",
    "\n",
    "优点：\n",
    "\n",
    "1.简化代码结构，增加了代码的复用性(重复使用的程度)\n",
    "\n",
    "2.增加代码的可维护性\n",
    "\n",
    "![函数参数和返回值](images/函数参数和返回值.png)"
   ]
  },
  {
   "cell_type": "markdown",
   "metadata": {},
   "source": [
    "## 定义函数"
   ]
  },
  {
   "cell_type": "markdown",
   "metadata": {},
   "source": [
    "- 定义一个求圆柱体体积的函数"
   ]
  },
  {
   "cell_type": "code",
   "execution_count": null,
   "metadata": {},
   "outputs": [],
   "source": [
    "area = pi*r**2*h"
   ]
  },
  {
   "cell_type": "code",
   "execution_count": 32,
   "metadata": {
    "ExecuteTime": {
     "end_time": "2020-07-24T07:55:07.042790Z",
     "start_time": "2020-07-24T07:55:07.039182Z"
    }
   },
   "outputs": [
    {
     "data": {
      "text/plain": [
       "3.141592653589793"
      ]
     },
     "execution_count": 32,
     "metadata": {},
     "output_type": "execute_result"
    }
   ],
   "source": [
    "import math\n",
    "\n",
    "math.pi"
   ]
  },
  {
   "cell_type": "code",
   "execution_count": 37,
   "metadata": {
    "ExecuteTime": {
     "end_time": "2020-07-24T08:02:36.004990Z",
     "start_time": "2020-07-24T08:02:36.000397Z"
    }
   },
   "outputs": [
    {
     "data": {
      "text/plain": [
       "157079.63267948967"
      ]
     },
     "execution_count": 37,
     "metadata": {},
     "output_type": "execute_result"
    }
   ],
   "source": [
    "import math\n",
    "\n",
    "def get_area(r, h=5):\n",
    "    area = math.pi*r**2*h\n",
    "    return area\n",
    "\n",
    "\n",
    "get_area(100)"
   ]
  },
  {
   "cell_type": "markdown",
   "metadata": {},
   "source": [
    "**注意，函数应先定义后使用**"
   ]
  },
  {
   "cell_type": "markdown",
   "metadata": {},
   "source": [
    "## 函数参数"
   ]
  },
  {
   "cell_type": "markdown",
   "metadata": {},
   "source": [
    "**形参和实参**\n",
    "\n",
    "**位置参数**\n",
    "\n",
    "**默认参数**\n",
    "\n",
    "**关键字参数**"
   ]
  },
  {
   "cell_type": "markdown",
   "metadata": {},
   "source": [
    "## 函数返回值"
   ]
  },
  {
   "cell_type": "markdown",
   "metadata": {},
   "source": [
    "**单返回值**\n",
    "- 默认返回的即返回值类型\n",
    "\n",
    "**多返回值**\n",
    "\n",
    "默认返回的多个值是元组\n",
    "\n",
    "**无返回值**\n",
    "- 返回None对象"
   ]
  },
  {
   "cell_type": "markdown",
   "metadata": {},
   "source": [
    "# 文件操作"
   ]
  },
  {
   "cell_type": "markdown",
   "metadata": {},
   "source": [
    "![文件打开模式](./images/file.png)\n",
    "\n",
    "**打开文件尽量使用with上下文（可以自动关闭IO管道）**"
   ]
  },
  {
   "cell_type": "code",
   "execution_count": 40,
   "metadata": {
    "ExecuteTime": {
     "end_time": "2020-07-24T08:08:52.576309Z",
     "start_time": "2020-07-24T08:08:52.572476Z"
    }
   },
   "outputs": [],
   "source": [
    "f = open(\"./baiku_demo.txt\", \"a+\")\n",
    "\n",
    "f.write(\"Hello Baiku!\\n\")\n",
    "f.write(\"new1!\\n\")\n",
    "f.write(\"new2!\\n\")\n",
    "\n",
    "\n",
    "f.close()"
   ]
  },
  {
   "cell_type": "code",
   "execution_count": 41,
   "metadata": {
    "ExecuteTime": {
     "end_time": "2020-07-24T08:09:40.237982Z",
     "start_time": "2020-07-24T08:09:40.233814Z"
    }
   },
   "outputs": [
    {
     "data": {
      "text/plain": [
       "'Helle Baiku!Hello Baiku!\\nnew1!new2!Hello Baiku!\\nnew1!\\nnew2!\\n'"
      ]
     },
     "execution_count": 41,
     "metadata": {},
     "output_type": "execute_result"
    }
   ],
   "source": [
    "f = open(\"./baiku_demo.txt\", 'r')\n",
    "\n",
    "f.read()"
   ]
  },
  {
   "cell_type": "code",
   "execution_count": 42,
   "metadata": {
    "ExecuteTime": {
     "end_time": "2020-07-24T08:09:45.167726Z",
     "start_time": "2020-07-24T08:09:45.163428Z"
    }
   },
   "outputs": [
    {
     "data": {
      "text/plain": [
       "''"
      ]
     },
     "execution_count": 42,
     "metadata": {},
     "output_type": "execute_result"
    }
   ],
   "source": [
    "f.read()"
   ]
  },
  {
   "cell_type": "code",
   "execution_count": 43,
   "metadata": {
    "ExecuteTime": {
     "end_time": "2020-07-24T08:10:04.958514Z",
     "start_time": "2020-07-24T08:10:04.954574Z"
    }
   },
   "outputs": [
    {
     "data": {
      "text/plain": [
       "60"
      ]
     },
     "execution_count": 43,
     "metadata": {},
     "output_type": "execute_result"
    }
   ],
   "source": [
    "f.tell()"
   ]
  },
  {
   "cell_type": "code",
   "execution_count": 44,
   "metadata": {
    "ExecuteTime": {
     "end_time": "2020-07-24T08:10:11.527452Z",
     "start_time": "2020-07-24T08:10:11.523605Z"
    }
   },
   "outputs": [
    {
     "data": {
      "text/plain": [
       "0"
      ]
     },
     "execution_count": 44,
     "metadata": {},
     "output_type": "execute_result"
    }
   ],
   "source": [
    "f.seek(0)"
   ]
  },
  {
   "cell_type": "code",
   "execution_count": 45,
   "metadata": {
    "ExecuteTime": {
     "end_time": "2020-07-24T08:10:18.958282Z",
     "start_time": "2020-07-24T08:10:18.954104Z"
    }
   },
   "outputs": [
    {
     "data": {
      "text/plain": [
       "'Helle Baik'"
      ]
     },
     "execution_count": 45,
     "metadata": {},
     "output_type": "execute_result"
    }
   ],
   "source": [
    "f.read(10)"
   ]
  },
  {
   "cell_type": "code",
   "execution_count": 46,
   "metadata": {
    "ExecuteTime": {
     "end_time": "2020-07-24T08:10:27.105780Z",
     "start_time": "2020-07-24T08:10:27.101750Z"
    }
   },
   "outputs": [
    {
     "data": {
      "text/plain": [
       "'u!Hello Baiku!\\n'"
      ]
     },
     "execution_count": 46,
     "metadata": {},
     "output_type": "execute_result"
    }
   ],
   "source": [
    "f.readline()"
   ]
  },
  {
   "cell_type": "code",
   "execution_count": 47,
   "metadata": {
    "ExecuteTime": {
     "end_time": "2020-07-24T08:10:35.959520Z",
     "start_time": "2020-07-24T08:10:35.955463Z"
    }
   },
   "outputs": [
    {
     "data": {
      "text/plain": [
       "['new1!new2!Hello Baiku!\\n', 'new1!\\n', 'new2!\\n']"
      ]
     },
     "execution_count": 47,
     "metadata": {},
     "output_type": "execute_result"
    }
   ],
   "source": [
    "f.readlines()"
   ]
  },
  {
   "cell_type": "code",
   "execution_count": 48,
   "metadata": {
    "ExecuteTime": {
     "end_time": "2020-07-24T08:10:52.908109Z",
     "start_time": "2020-07-24T08:10:52.905410Z"
    }
   },
   "outputs": [],
   "source": [
    "f.close()"
   ]
  },
  {
   "cell_type": "code",
   "execution_count": 52,
   "metadata": {
    "ExecuteTime": {
     "end_time": "2020-07-24T08:16:00.188204Z",
     "start_time": "2020-07-24T08:16:00.184597Z"
    }
   },
   "outputs": [
    {
     "name": "stdout",
     "output_type": "stream",
     "text": [
      "Helle Baiku!Hello Baiku!\n",
      "new1!new2!Hello Baiku!\n",
      "new1!\n",
      "new2!\n",
      "\n"
     ]
    }
   ],
   "source": [
    "with open(\"./baiku_demo.txt\", 'r') as f:\n",
    "    print(f.read())\n",
    "    "
   ]
  },
  {
   "cell_type": "markdown",
   "metadata": {},
   "source": [
    "**推荐编辑器**\n",
    "- notepad++\n",
    "- ue"
   ]
  },
  {
   "cell_type": "markdown",
   "metadata": {},
   "source": [
    "# 异常处理"
   ]
  },
  {
   "cell_type": "code",
   "execution_count": 2,
   "metadata": {
    "ExecuteTime": {
     "end_time": "2020-07-24T07:38:36.354733Z",
     "start_time": "2020-07-24T07:38:36.351619Z"
    }
   },
   "outputs": [
    {
     "name": "stdout",
     "output_type": "stream",
     "text": [
      "'name'\n"
     ]
    }
   ],
   "source": [
    "new = {}\n",
    "try:\n",
    "    username = new['name']\n",
    "except Exception as e:\n",
    "    print(e)"
   ]
  },
  {
   "cell_type": "markdown",
   "metadata": {},
   "source": [
    "> 程序的错误包括两种，一种是语法错误，一种是异常。程序异常表示程序在运行过程中遇到了错误，抛出了异常"
   ]
  },
  {
   "cell_type": "markdown",
   "metadata": {},
   "source": [
    "- 异常通常意味着出错\n",
    "- 异常可以手动生成 (raise)\n",
    "  - raise Exception(\"\"非法输入)\n",
    "- 不处理异常的后果\n",
    "- 处理异常\n",
    "  - try...except...except...else...finally...\n"
   ]
  },
  {
   "cell_type": "code",
   "execution_count": 57,
   "metadata": {
    "ExecuteTime": {
     "end_time": "2020-07-24T08:19:12.912800Z",
     "start_time": "2020-07-24T08:19:12.908413Z"
    }
   },
   "outputs": [
    {
     "name": "stdout",
     "output_type": "stream",
     "text": [
      "将异常记录到日志！\n",
      "Hello\n"
     ]
    }
   ],
   "source": [
    "try:\n",
    "    f = open(\"./demo.jpg\")\n",
    "except Exception as e:\n",
    "    print(\"将异常记录到日志！\")\n",
    "    \n",
    "print(\"Hello\")"
   ]
  },
  {
   "cell_type": "markdown",
   "metadata": {},
   "source": [
    "# 模块和包"
   ]
  },
  {
   "cell_type": "markdown",
   "metadata": {},
   "source": [
    "- 什么是模块 (文件: .py .pyc, .so(类Linux), dll（windows）)\n",
    "- 导入语句\n",
    "  - import os\n",
    "    - os.path\n",
    "  - import os as os2\n",
    "  - from os import path\n",
    "    - path\n",
    "  - from os import path as path2\n",
    "  - from os import path, listdir\n",
    "- 包的作用\n",
    "    - 文件`__init__.py`\n",
    "- 导入包中的模块\n",
    "  - from p import m\n",
    "  - import p.m"
   ]
  },
  {
   "cell_type": "code",
   "execution_count": 59,
   "metadata": {
    "ExecuteTime": {
     "end_time": "2020-07-24T08:35:44.535102Z",
     "start_time": "2020-07-24T08:35:44.530756Z"
    }
   },
   "outputs": [
    {
     "data": {
      "text/plain": [
       "'C:/a.txt'"
      ]
     },
     "execution_count": 59,
     "metadata": {},
     "output_type": "execute_result"
    }
   ],
   "source": [
    "import os\n",
    "\n",
    "os.path.join(\"C:\", \"a.txt\")"
   ]
  },
  {
   "cell_type": "code",
   "execution_count": 60,
   "metadata": {
    "ExecuteTime": {
     "end_time": "2020-07-24T08:36:18.192485Z",
     "start_time": "2020-07-24T08:36:18.188384Z"
    }
   },
   "outputs": [
    {
     "data": {
      "text/plain": [
       "'D/b.txt'"
      ]
     },
     "execution_count": 60,
     "metadata": {},
     "output_type": "execute_result"
    }
   ],
   "source": [
    "from os.path import join\n",
    "\n",
    "\n",
    "join(\"D\", \"b.txt\")"
   ]
  },
  {
   "cell_type": "code",
   "execution_count": 61,
   "metadata": {
    "ExecuteTime": {
     "end_time": "2020-07-24T08:37:38.606853Z",
     "start_time": "2020-07-24T08:37:38.602653Z"
    },
    "collapsed": true
   },
   "outputs": [
    {
     "data": {
      "text/plain": [
       "['/Users/evenyan/Documents/python_basic_baiku',\n",
       " '/usr/local/Cellar/python/3.7.7/Frameworks/Python.framework/Versions/3.7/lib/python37.zip',\n",
       " '/usr/local/Cellar/python/3.7.7/Frameworks/Python.framework/Versions/3.7/lib/python3.7',\n",
       " '/usr/local/Cellar/python/3.7.7/Frameworks/Python.framework/Versions/3.7/lib/python3.7/lib-dynload',\n",
       " '',\n",
       " '/Users/evenyan/Library/Python/3.7/lib/python/site-packages',\n",
       " '/usr/local/lib/python3.7/site-packages',\n",
       " '/usr/local/lib/python3.7/site-packages/IPython/extensions',\n",
       " '/Users/evenyan/.ipython']"
      ]
     },
     "execution_count": 61,
     "metadata": {},
     "output_type": "execute_result"
    }
   ],
   "source": [
    "from os import path as path2\n",
    "from sys import path\n",
    "\n",
    "path"
   ]
  },
  {
   "cell_type": "code",
   "execution_count": 62,
   "metadata": {
    "ExecuteTime": {
     "end_time": "2020-07-24T08:37:53.468099Z",
     "start_time": "2020-07-24T08:37:53.456634Z"
    }
   },
   "outputs": [],
   "source": [
    "path2.join??"
   ]
  },
  {
   "cell_type": "markdown",
   "metadata": {},
   "source": [
    "# 常用内置库"
   ]
  },
  {
   "cell_type": "markdown",
   "metadata": {
    "heading_collapsed": true
   },
   "source": [
    "## OS库"
   ]
  },
  {
   "cell_type": "markdown",
   "metadata": {
    "hidden": true
   },
   "source": [
    "在自动化测试中,经常需要查找操作文件,比如查找配置文件(从而读取配置文件的信息),查找测试报告等等,经常会对大量文件和路径进行操作,这就依赖os模块\n",
    "\n",
    "- getcwd：获取当前工作区（代码运行的文件）\n",
    "- listdir：获取指定文件下的所以子文件和子文件夹\n",
    "- remove：删除文件\n",
    "- rename：重命名文件\n",
    "- path.abspath：将文件与当前文件夹进行拼接，形成新的绝对路径（不会首先判断文件是否存在）\n",
    "- path.join：拼接路径\n",
    "- path.dirname：返回父目录\n",
    "- path.isfile：会首先判断文件是否存在\n",
    "- path.isdir：会首先判断文件夹是否存在"
   ]
  },
  {
   "cell_type": "code",
   "execution_count": 80,
   "metadata": {
    "ExecuteTime": {
     "end_time": "2020-07-24T08:52:52.147128Z",
     "start_time": "2020-07-24T08:52:52.142870Z"
    },
    "hidden": true
   },
   "outputs": [
    {
     "data": {
      "text/plain": [
       "[1, 3, 4, 5]"
      ]
     },
     "execution_count": 80,
     "metadata": {},
     "output_type": "execute_result"
    }
   ],
   "source": [
    "list(set([1, 1, 1, 1, 3, 4,5]))"
   ]
  },
  {
   "cell_type": "code",
   "execution_count": 69,
   "metadata": {
    "ExecuteTime": {
     "end_time": "2020-07-24T08:41:37.709456Z",
     "start_time": "2020-07-24T08:41:37.706009Z"
    },
    "hidden": true
   },
   "outputs": [],
   "source": [
    "import os\n",
    "\n",
    "os.getcwd()\n",
    "os.listdir(\"./\")\n",
    "# os.rename(\"./baiku_demo.txt\", \"./baiku_demo1.txt\")\n",
    "# os.remove(\"./baiku_demo1.txt\")\n",
    "os.mkdir(\"./new_dir\")"
   ]
  },
  {
   "cell_type": "code",
   "execution_count": 75,
   "metadata": {
    "ExecuteTime": {
     "end_time": "2020-07-24T08:43:43.105823Z",
     "start_time": "2020-07-24T08:43:43.100660Z"
    },
    "hidden": true
   },
   "outputs": [
    {
     "data": {
      "text/plain": [
       "False"
      ]
     },
     "execution_count": 75,
     "metadata": {},
     "output_type": "execute_result"
    }
   ],
   "source": [
    "cur_dir = os.getcwd()\n",
    "os.path.dirname(cur_dir)\n",
    "os.path.join(\"C\", \"a.txt\")\n",
    "\n",
    "os.path.isdir(\"./demo.xlsx\")"
   ]
  },
  {
   "cell_type": "code",
   "execution_count": null,
   "metadata": {
    "hidden": true
   },
   "outputs": [],
   "source": [
    "import shutil\n",
    "\n",
    "shutil.move(\"./demo.xlsx\", \"./demo3.xlsx\")"
   ]
  },
  {
   "cell_type": "code",
   "execution_count": 87,
   "metadata": {
    "ExecuteTime": {
     "end_time": "2020-07-24T08:59:58.626935Z",
     "start_time": "2020-07-24T08:59:58.614856Z"
    },
    "collapsed": true,
    "hidden": true
   },
   "outputs": [
    {
     "name": "stdout",
     "output_type": "stream",
     "text": [
      "['20200621', '20200604', '20200630', '20200708', '20200628', '20200715', '20200711', '20200601', '20200611', '20200609', '20200702', '20200717', '20200614', '20200625', '20200613', '20200707', '20200721', '20200716', '20200610', '20200612', '20200627', '20200713', '20200602', '20200712', '20200629', '20200723', '20200607', '20200615', '20200626', '20200616', '20200706', '20200608', '20200718', '20200618', '20200624', '20200714', '20200703', '20200701', '20200722', '20200606', '20200605', '20200709', '20200622', '20200710', '20200603', '20200620', '20200705', '20200720', '20200623', '20200704', '20200617', '20200719', '20200619']\n"
     ]
    }
   ],
   "source": [
    "import os\n",
    "import shutil\n",
    "\n",
    "\n",
    "target_dir = \"/Users/evenyan/Documents/python_basic_baiku/baiku_demo/record\"\n",
    "\n",
    "file_list = os.listdir(target_dir)\n",
    "\n",
    "\n",
    "new_list = []\n",
    "for f in file_list:\n",
    "    new_list.append(f[:8])\n",
    "\n",
    "new_list = list(set(new_list))\n",
    "print(new_list)\n",
    "\n",
    "data_dir = os.path.join(os.path.dirname(target_dir), 'data')\n",
    "\n",
    "for i in new_list:\n",
    "    try:\n",
    "        os.mkdir(os.path.join(data_dir, i))\n",
    "    except Exception as e:\n",
    "        pass"
   ]
  },
  {
   "cell_type": "code",
   "execution_count": 88,
   "metadata": {
    "ExecuteTime": {
     "end_time": "2020-07-24T09:02:09.792396Z",
     "start_time": "2020-07-24T09:02:09.089837Z"
    },
    "hidden": true
   },
   "outputs": [],
   "source": [
    "for file in file_list:\n",
    "    abs_path = os.path.join(target_dir, file)\n",
    "    shutil.copy(abs_path, os.path.join(data_dir, file[:8]))"
   ]
  },
  {
   "cell_type": "markdown",
   "metadata": {
    "heading_collapsed": true,
    "hidden": true
   },
   "source": [
    "### 家庭作业："
   ]
  },
  {
   "cell_type": "markdown",
   "metadata": {
    "hidden": true
   },
   "source": [
    "**递归地打印指定文件及其子目录**"
   ]
  },
  {
   "cell_type": "markdown",
   "metadata": {
    "hidden": true
   },
   "source": [
    "- 列出文件夹下所有文件及文件夹\n",
    "- 遍历所有文件及文件夹\n",
    "- 判断是否是文件夹，是则递归执行逻辑，不是则打印文件"
   ]
  },
  {
   "cell_type": "markdown",
   "metadata": {
    "heading_collapsed": true,
    "hidden": true
   },
   "source": [
    "### 拓展：删除指定文件夹中的所有非Excel文件"
   ]
  },
  {
   "cell_type": "markdown",
   "metadata": {
    "heading_collapsed": true
   },
   "source": [
    "## shutil库"
   ]
  },
  {
   "cell_type": "code",
   "execution_count": 77,
   "metadata": {
    "ExecuteTime": {
     "end_time": "2020-07-24T08:44:59.359883Z",
     "start_time": "2020-07-24T08:44:59.355409Z"
    },
    "hidden": true
   },
   "outputs": [
    {
     "data": {
      "text/plain": [
       "'./demo3.xlsx'"
      ]
     },
     "execution_count": 77,
     "metadata": {},
     "output_type": "execute_result"
    }
   ],
   "source": [
    "import shutil\n",
    "\n",
    "shutil.move(\"./demo.xlsx\", \"./demo3.xlsx\")"
   ]
  },
  {
   "cell_type": "markdown",
   "metadata": {},
   "source": [
    "## 时间模块"
   ]
  },
  {
   "cell_type": "markdown",
   "metadata": {},
   "source": [
    "\n",
    "- datetime模块:\n",
    "    - datetime.timedelta\n",
    "    - datetime.datetime.now()\n",
    "    - datetime.datetime(2015, 4, 19, 12, 20)\n",
    "    - datetime_obj.strftime(format)\n",
    "    - datetime.datetime.strptime(str_time, format)\n",
    "- time模块:\n",
    "    - time.sleep\n",
    "    - time.time"
   ]
  },
  {
   "cell_type": "code",
   "execution_count": 96,
   "metadata": {
    "ExecuteTime": {
     "end_time": "2020-07-24T09:10:22.473229Z",
     "start_time": "2020-07-24T09:10:22.466466Z"
    },
    "scrolled": true
   },
   "outputs": [
    {
     "name": "stdout",
     "output_type": "stream",
     "text": [
      "2020-07-24 17:10:22.469454\n",
      "2020-07-27 21:10:22.469454\n",
      "<class 'datetime.datetime'>\n",
      "2020/07/24 17:10:22\n",
      "2020-07-24 17:10:22\n"
     ]
    }
   ],
   "source": [
    "import datetime\n",
    "\n",
    "\n",
    "cur_time = datetime.datetime.now()\n",
    "print(cur_time)\n",
    "three_day_after = cur_time + datetime.timedelta(days=3, hours=4)\n",
    "print(three_day_after)\n",
    "\n",
    "print(type(cur_time))\n",
    "\n",
    "cur_time_str = cur_time.strftime(\"%Y/%m/%d %H:%M:%S\")\n",
    "print(cur_time_str)\n",
    "\n",
    "datetime_obj = datetime.datetime.strptime(cur_time_str, \"%Y/%m/%d %H:%M:%S\")\n",
    "print(datetime_obj)"
   ]
  },
  {
   "cell_type": "code",
   "execution_count": 108,
   "metadata": {
    "ExecuteTime": {
     "end_time": "2020-07-24T09:13:25.819371Z",
     "start_time": "2020-07-24T09:13:20.813160Z"
    }
   },
   "outputs": [],
   "source": [
    "import time\n",
    "\n",
    "time.time()\n",
    "time.sleep(5)"
   ]
  }
 ],
 "metadata": {
  "kernelspec": {
   "display_name": "Python 3",
   "language": "python",
   "name": "python3"
  },
  "language_info": {
   "codemirror_mode": {
    "name": "ipython",
    "version": 3
   },
   "file_extension": ".py",
   "mimetype": "text/x-python",
   "name": "python",
   "nbconvert_exporter": "python",
   "pygments_lexer": "ipython3",
   "version": "3.7.7"
  },
  "toc": {
   "base_numbering": 1,
   "nav_menu": {},
   "number_sections": false,
   "sideBar": true,
   "skip_h1_title": false,
   "title_cell": "Table of Contents",
   "title_sidebar": "Contents",
   "toc_cell": false,
   "toc_position": {
    "height": "445px",
    "left": "28px",
    "top": "31.7143px",
    "width": "165px"
   },
   "toc_section_display": true,
   "toc_window_display": true
  }
 },
 "nbformat": 4,
 "nbformat_minor": 2
}
