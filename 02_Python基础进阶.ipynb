{
 "cells": [
  {
   "cell_type": "markdown",
   "metadata": {},
   "source": [
    "# 函数"
   ]
  },
  {
   "cell_type": "markdown",
   "metadata": {},
   "source": [
    "## 认识函数"
   ]
  },
  {
   "cell_type": "markdown",
   "metadata": {
    "ExecuteTime": {
     "end_time": "2020-07-16T02:21:26.878859Z",
     "start_time": "2020-07-16T02:21:26.874994Z"
    }
   },
   "source": [
    "函数：在一个完整的项目中，某些功能会反复的使用，那么会将功能会反复的使用，那么会将功能封装成函数，当我们要使用此功能的时候调用即可。\n",
    "\n",
    "优点：\n",
    "\n",
    "1.简化代码结构，增加了代码的复用性(重复使用的程度)\n",
    "\n",
    "2.增加代码的可维护性\n",
    "\n",
    "![函数参数和返回值](images/函数参数和返回值.png)"
   ]
  },
  {
   "cell_type": "markdown",
   "metadata": {},
   "source": [
    "## 定义函数"
   ]
  },
  {
   "cell_type": "markdown",
   "metadata": {},
   "source": [
    "- 定义一个求圆柱体体积的函数"
   ]
  },
  {
   "cell_type": "markdown",
   "metadata": {},
   "source": [
    "**注意，函数应先定义后使用**"
   ]
  },
  {
   "cell_type": "markdown",
   "metadata": {},
   "source": [
    "## 函数参数"
   ]
  },
  {
   "cell_type": "markdown",
   "metadata": {},
   "source": [
    "**形参和实参**\n",
    "\n",
    "**位置参数**\n",
    "\n",
    "**默认参数**\n",
    "\n",
    "**关键字参数**"
   ]
  },
  {
   "cell_type": "markdown",
   "metadata": {},
   "source": [
    "## 函数返回值"
   ]
  },
  {
   "cell_type": "markdown",
   "metadata": {},
   "source": [
    "**单返回值**\n",
    "- 默认返回的即返回值类型\n",
    "\n",
    "**多返回值**\n",
    "\n",
    "默认返回的多个值是元组\n",
    "\n",
    "**无返回值**\n",
    "- 返回None对象"
   ]
  },
  {
   "cell_type": "markdown",
   "metadata": {},
   "source": [
    "# 文件操作"
   ]
  },
  {
   "cell_type": "markdown",
   "metadata": {},
   "source": [
    "![文件打开模式](./images/file.png)\n",
    "\n",
    "**打开文件尽量使用with上下文（可以自动关闭IO管道）**"
   ]
  },
  {
   "cell_type": "markdown",
   "metadata": {},
   "source": [
    "# 异常处理"
   ]
  },
  {
   "cell_type": "markdown",
   "metadata": {},
   "source": [
    "> 程序的错误包括两种，一种是语法错误，一种是异常。程序异常表示程序在运行过程中遇到了错误，抛出了异常"
   ]
  },
  {
   "cell_type": "markdown",
   "metadata": {},
   "source": [
    "- 异常通常意味着出错\n",
    "- 异常可以手动生成 (raise)\n",
    "  - raise Exception(\"\"非法输入)\n",
    "- 不处理异常的后果\n",
    "- 处理异常\n",
    "  - try...except...except...else...finally...\n"
   ]
  },
  {
   "cell_type": "markdown",
   "metadata": {},
   "source": [
    "# 模块和包"
   ]
  },
  {
   "cell_type": "markdown",
   "metadata": {},
   "source": [
    "- 什么是模块 (文件: .py .pyc, .so(类Linux), dll（windows）)\n",
    "- 模块的导入\n",
    "  - 导入的顺序：sys.path\n",
    "  - PYTHONPATH\n",
    "  - 导入流程 (定位，加载，编译，执行，生成模块对象，导入名字)\n",
    "- 导入语句\n",
    "  - import os\n",
    "    - os.path\n",
    "  - import os as os2\n",
    "  - from os import path\n",
    "    - path\n",
    "  - from os import path as path2\n",
    "  - from os import path, listdir\n",
    "- 包的作用\n",
    "    - 文件`__init__.py`\n",
    "- 导入包中的模块\n",
    "  - from p import m\n",
    "  - import p.m"
   ]
  },
  {
   "cell_type": "markdown",
   "metadata": {},
   "source": [
    "# 常用内置库"
   ]
  },
  {
   "cell_type": "markdown",
   "metadata": {},
   "source": [
    "## OS库"
   ]
  },
  {
   "cell_type": "markdown",
   "metadata": {},
   "source": [
    "在自动化测试中,经常需要查找操作文件,比如查找配置文件(从而读取配置文件的信息),查找测试报告等等,经常会对大量文件和路径进行操作,这就依赖os模块\n",
    "\n",
    "- getcwd\n",
    "- listdir\n",
    "- remove\n",
    "- rename\n",
    "- path.abspath：将文件与当前文件夹进行拼接，形成新的绝对路径（不会首先判断文件是否存在）\n",
    "- path.split\n",
    "- path.join\n",
    "- path.dirname\n",
    "- path.basename：返回path中文件名\n",
    "- path.isfile：会首先判断文件是否存在\n",
    "- path.isdir：会首先判断文件夹是否存在"
   ]
  },
  {
   "cell_type": "markdown",
   "metadata": {},
   "source": [
    "### 案例"
   ]
  },
  {
   "cell_type": "markdown",
   "metadata": {},
   "source": [
    "**递归地打印指定文件及其子目录**"
   ]
  },
  {
   "cell_type": "markdown",
   "metadata": {},
   "source": [
    "- 列出文件夹下所有文件及文件夹\n",
    "- 遍历所有文件及文件夹\n",
    "- 判断是否是文件夹，是则递归执行逻辑，不是则打印文件"
   ]
  },
  {
   "cell_type": "markdown",
   "metadata": {},
   "source": [
    "### 拓展：删除指定文件夹中的所有非Excel文件"
   ]
  },
  {
   "cell_type": "markdown",
   "metadata": {
    "heading_collapsed": true
   },
   "source": [
    "## shutil库"
   ]
  },
  {
   "cell_type": "markdown",
   "metadata": {},
   "source": [
    "## 时间模块"
   ]
  },
  {
   "cell_type": "markdown",
   "metadata": {},
   "source": [
    "\n",
    "- datetime模块:\n",
    "    - datetime.timedelta\n",
    "    - datetime.datetime.now()\n",
    "    - datetime.datetime(2015, 4, 19, 12, 20)\n",
    "    - datetime_obj.strftime(format)\n",
    "    - datetime.datetime.strptime(str_time, format)\n",
    "- time模块:\n",
    "    - time.sleep\n",
    "    - time.time"
   ]
  }
 ],
 "metadata": {
  "kernelspec": {
   "display_name": "Python 3",
   "language": "python",
   "name": "python3"
  },
  "language_info": {
   "codemirror_mode": {
    "name": "ipython",
    "version": 3
   },
   "file_extension": ".py",
   "mimetype": "text/x-python",
   "name": "python",
   "nbconvert_exporter": "python",
   "pygments_lexer": "ipython3",
   "version": "3.7.7"
  },
  "toc": {
   "base_numbering": 1,
   "nav_menu": {},
   "number_sections": false,
   "sideBar": true,
   "skip_h1_title": false,
   "title_cell": "Table of Contents",
   "title_sidebar": "Contents",
   "toc_cell": false,
   "toc_position": {
    "height": "445px",
    "left": "28px",
    "top": "31.7143px",
    "width": "165px"
   },
   "toc_section_display": true,
   "toc_window_display": true
  }
 },
 "nbformat": 4,
 "nbformat_minor": 2
}
